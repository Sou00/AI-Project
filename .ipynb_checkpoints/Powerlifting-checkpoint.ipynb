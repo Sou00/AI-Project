{
 "cells": [
  {
   "cell_type": "code",
   "execution_count": 1,
   "id": "fdbcc348",
   "metadata": {},
   "outputs": [],
   "source": [
    "import numpy as np \n",
    "import pandas as pd\n",
    "import math\n",
    "import matplotlib.pyplot as plt\n",
    "import seaborn as sns\n",
    "from category_encoders import TargetEncoder\n",
    "from sklearn.model_selection import train_test_split\n",
    "from sklearn.pipeline import Pipeline\n",
    "from sklearn.impute import SimpleImputer\n",
    "from sklearn.model_selection import KFold\n",
    "from sklearn.linear_model import LinearRegression\n",
    "from sklearn.svm import SVR\n",
    "from sklearn.preprocessing import StandardScaler\n",
    "from sklearn.model_selection import GridSearchCV\n",
    "import tensorflow as tf\n",
    "from tensorflow import keras\n",
    "from keras.callbacks import History\n",
    "from sklearn import  metrics"
   ]
  },
  {
   "cell_type": "code",
   "execution_count": 2,
   "id": "37b1bc7d",
   "metadata": {},
   "outputs": [
    {
     "name": "stderr",
     "output_type": "stream",
     "text": [
      "C:\\Users\\Sou\\anaconda3\\lib\\site-packages\\IPython\\core\\interactiveshell.py:3444: DtypeWarning: Columns (35) have mixed types.Specify dtype option on import or set low_memory=False.\n",
      "  exec(code_obj, self.user_global_ns, self.user_ns)\n"
     ]
    },
    {
     "data": {
      "text/html": [
       "<div>\n",
       "<style scoped>\n",
       "    .dataframe tbody tr th:only-of-type {\n",
       "        vertical-align: middle;\n",
       "    }\n",
       "\n",
       "    .dataframe tbody tr th {\n",
       "        vertical-align: top;\n",
       "    }\n",
       "\n",
       "    .dataframe thead th {\n",
       "        text-align: right;\n",
       "    }\n",
       "</style>\n",
       "<table border=\"1\" class=\"dataframe\">\n",
       "  <thead>\n",
       "    <tr style=\"text-align: right;\">\n",
       "      <th></th>\n",
       "      <th>Name</th>\n",
       "      <th>Sex</th>\n",
       "      <th>Event</th>\n",
       "      <th>Equipment</th>\n",
       "      <th>Age</th>\n",
       "      <th>AgeClass</th>\n",
       "      <th>Division</th>\n",
       "      <th>BodyweightKg</th>\n",
       "      <th>WeightClassKg</th>\n",
       "      <th>Squat1Kg</th>\n",
       "      <th>...</th>\n",
       "      <th>McCulloch</th>\n",
       "      <th>Glossbrenner</th>\n",
       "      <th>IPFPoints</th>\n",
       "      <th>Tested</th>\n",
       "      <th>Country</th>\n",
       "      <th>Federation</th>\n",
       "      <th>Date</th>\n",
       "      <th>MeetCountry</th>\n",
       "      <th>MeetState</th>\n",
       "      <th>MeetName</th>\n",
       "    </tr>\n",
       "  </thead>\n",
       "  <tbody>\n",
       "    <tr>\n",
       "      <th>0</th>\n",
       "      <td>Abbie Murphy</td>\n",
       "      <td>F</td>\n",
       "      <td>SBD</td>\n",
       "      <td>Wraps</td>\n",
       "      <td>29.0</td>\n",
       "      <td>24-34</td>\n",
       "      <td>F-OR</td>\n",
       "      <td>59.8</td>\n",
       "      <td>60</td>\n",
       "      <td>80.0</td>\n",
       "      <td>...</td>\n",
       "      <td>324.16</td>\n",
       "      <td>286.42</td>\n",
       "      <td>511.15</td>\n",
       "      <td>NaN</td>\n",
       "      <td>NaN</td>\n",
       "      <td>GPC-AUS</td>\n",
       "      <td>2018-10-27</td>\n",
       "      <td>Australia</td>\n",
       "      <td>VIC</td>\n",
       "      <td>Melbourne Cup</td>\n",
       "    </tr>\n",
       "    <tr>\n",
       "      <th>1</th>\n",
       "      <td>Abbie Tuong</td>\n",
       "      <td>F</td>\n",
       "      <td>SBD</td>\n",
       "      <td>Wraps</td>\n",
       "      <td>29.0</td>\n",
       "      <td>24-34</td>\n",
       "      <td>F-OR</td>\n",
       "      <td>58.5</td>\n",
       "      <td>60</td>\n",
       "      <td>100.0</td>\n",
       "      <td>...</td>\n",
       "      <td>378.07</td>\n",
       "      <td>334.16</td>\n",
       "      <td>595.65</td>\n",
       "      <td>NaN</td>\n",
       "      <td>NaN</td>\n",
       "      <td>GPC-AUS</td>\n",
       "      <td>2018-10-27</td>\n",
       "      <td>Australia</td>\n",
       "      <td>VIC</td>\n",
       "      <td>Melbourne Cup</td>\n",
       "    </tr>\n",
       "    <tr>\n",
       "      <th>2</th>\n",
       "      <td>Ainslee Hooper</td>\n",
       "      <td>F</td>\n",
       "      <td>B</td>\n",
       "      <td>Raw</td>\n",
       "      <td>40.0</td>\n",
       "      <td>40-44</td>\n",
       "      <td>F-OR</td>\n",
       "      <td>55.4</td>\n",
       "      <td>56</td>\n",
       "      <td>NaN</td>\n",
       "      <td>...</td>\n",
       "      <td>38.56</td>\n",
       "      <td>34.12</td>\n",
       "      <td>313.97</td>\n",
       "      <td>NaN</td>\n",
       "      <td>NaN</td>\n",
       "      <td>GPC-AUS</td>\n",
       "      <td>2018-10-27</td>\n",
       "      <td>Australia</td>\n",
       "      <td>VIC</td>\n",
       "      <td>Melbourne Cup</td>\n",
       "    </tr>\n",
       "    <tr>\n",
       "      <th>3</th>\n",
       "      <td>Amy Moldenhauer</td>\n",
       "      <td>F</td>\n",
       "      <td>SBD</td>\n",
       "      <td>Wraps</td>\n",
       "      <td>23.0</td>\n",
       "      <td>20-23</td>\n",
       "      <td>F-OR</td>\n",
       "      <td>60.0</td>\n",
       "      <td>60</td>\n",
       "      <td>-105.0</td>\n",
       "      <td>...</td>\n",
       "      <td>345.61</td>\n",
       "      <td>305.37</td>\n",
       "      <td>547.04</td>\n",
       "      <td>NaN</td>\n",
       "      <td>NaN</td>\n",
       "      <td>GPC-AUS</td>\n",
       "      <td>2018-10-27</td>\n",
       "      <td>Australia</td>\n",
       "      <td>VIC</td>\n",
       "      <td>Melbourne Cup</td>\n",
       "    </tr>\n",
       "    <tr>\n",
       "      <th>4</th>\n",
       "      <td>Andrea Rowan</td>\n",
       "      <td>F</td>\n",
       "      <td>SBD</td>\n",
       "      <td>Wraps</td>\n",
       "      <td>45.0</td>\n",
       "      <td>45-49</td>\n",
       "      <td>F-OR</td>\n",
       "      <td>104.0</td>\n",
       "      <td>110</td>\n",
       "      <td>120.0</td>\n",
       "      <td>...</td>\n",
       "      <td>338.91</td>\n",
       "      <td>274.56</td>\n",
       "      <td>550.08</td>\n",
       "      <td>NaN</td>\n",
       "      <td>NaN</td>\n",
       "      <td>GPC-AUS</td>\n",
       "      <td>2018-10-27</td>\n",
       "      <td>Australia</td>\n",
       "      <td>VIC</td>\n",
       "      <td>Melbourne Cup</td>\n",
       "    </tr>\n",
       "  </tbody>\n",
       "</table>\n",
       "<p>5 rows × 37 columns</p>\n",
       "</div>"
      ],
      "text/plain": [
       "              Name Sex Event Equipment   Age AgeClass Division  BodyweightKg  \\\n",
       "0     Abbie Murphy   F   SBD     Wraps  29.0    24-34     F-OR          59.8   \n",
       "1      Abbie Tuong   F   SBD     Wraps  29.0    24-34     F-OR          58.5   \n",
       "2   Ainslee Hooper   F     B       Raw  40.0    40-44     F-OR          55.4   \n",
       "3  Amy Moldenhauer   F   SBD     Wraps  23.0    20-23     F-OR          60.0   \n",
       "4     Andrea Rowan   F   SBD     Wraps  45.0    45-49     F-OR         104.0   \n",
       "\n",
       "  WeightClassKg  Squat1Kg  ...  McCulloch  Glossbrenner  IPFPoints  Tested  \\\n",
       "0            60      80.0  ...     324.16        286.42     511.15     NaN   \n",
       "1            60     100.0  ...     378.07        334.16     595.65     NaN   \n",
       "2            56       NaN  ...      38.56         34.12     313.97     NaN   \n",
       "3            60    -105.0  ...     345.61        305.37     547.04     NaN   \n",
       "4           110     120.0  ...     338.91        274.56     550.08     NaN   \n",
       "\n",
       "   Country  Federation        Date  MeetCountry  MeetState       MeetName  \n",
       "0      NaN     GPC-AUS  2018-10-27    Australia        VIC  Melbourne Cup  \n",
       "1      NaN     GPC-AUS  2018-10-27    Australia        VIC  Melbourne Cup  \n",
       "2      NaN     GPC-AUS  2018-10-27    Australia        VIC  Melbourne Cup  \n",
       "3      NaN     GPC-AUS  2018-10-27    Australia        VIC  Melbourne Cup  \n",
       "4      NaN     GPC-AUS  2018-10-27    Australia        VIC  Melbourne Cup  \n",
       "\n",
       "[5 rows x 37 columns]"
      ]
     },
     "execution_count": 2,
     "metadata": {},
     "output_type": "execute_result"
    }
   ],
   "source": [
    "fname = \"./openpowerlifting.csv\"\n",
    "df = pd.read_csv(fname, parse_dates=True)\n",
    "df.head()"
   ]
  },
  {
   "cell_type": "code",
   "execution_count": 3,
   "id": "ba278100",
   "metadata": {},
   "outputs": [
    {
     "data": {
      "text/plain": [
       "(1423354, 37)"
      ]
     },
     "execution_count": 3,
     "metadata": {},
     "output_type": "execute_result"
    }
   ],
   "source": [
    "df.shape"
   ]
  },
  {
   "cell_type": "code",
   "execution_count": 4,
   "id": "efba8af2",
   "metadata": {},
   "outputs": [
    {
     "name": "stdout",
     "output_type": "stream",
     "text": [
      "<class 'pandas.core.frame.DataFrame'>\n",
      "RangeIndex: 1423354 entries, 0 to 1423353\n",
      "Data columns (total 37 columns):\n",
      " #   Column           Non-Null Count    Dtype  \n",
      "---  ------           --------------    -----  \n",
      " 0   Name             1423354 non-null  object \n",
      " 1   Sex              1423354 non-null  object \n",
      " 2   Event            1423354 non-null  object \n",
      " 3   Equipment        1423354 non-null  object \n",
      " 4   Age              757527 non-null   float64\n",
      " 5   AgeClass         786800 non-null   object \n",
      " 6   Division         1415176 non-null  object \n",
      " 7   BodyweightKg     1406622 non-null  float64\n",
      " 8   WeightClassKg    1410042 non-null  object \n",
      " 9   Squat1Kg         337580 non-null   float64\n",
      " 10  Squat2Kg         333349 non-null   float64\n",
      " 11  Squat3Kg         323842 non-null   float64\n",
      " 12  Squat4Kg         3696 non-null     float64\n",
      " 13  Best3SquatKg     1031450 non-null  float64\n",
      " 14  Bench1Kg         499779 non-null   float64\n",
      " 15  Bench2Kg         493486 non-null   float64\n",
      " 16  Bench3Kg         478485 non-null   float64\n",
      " 17  Bench4Kg         9505 non-null     float64\n",
      " 18  Best3BenchKg     1276181 non-null  float64\n",
      " 19  Deadlift1Kg      363544 non-null   float64\n",
      " 20  Deadlift2Kg      356023 non-null   float64\n",
      " 21  Deadlift3Kg      339947 non-null   float64\n",
      " 22  Deadlift4Kg      9246 non-null     float64\n",
      " 23  Best3DeadliftKg  1081808 non-null  float64\n",
      " 24  TotalKg          1313184 non-null  float64\n",
      " 25  Place            1423354 non-null  object \n",
      " 26  Wilks            1304407 non-null  float64\n",
      " 27  McCulloch        1304254 non-null  float64\n",
      " 28  Glossbrenner     1304407 non-null  float64\n",
      " 29  IPFPoints        1273286 non-null  float64\n",
      " 30  Tested           1093892 non-null  object \n",
      " 31  Country          388884 non-null   object \n",
      " 32  Federation       1423354 non-null  object \n",
      " 33  Date             1423354 non-null  object \n",
      " 34  MeetCountry      1423354 non-null  object \n",
      " 35  MeetState        941545 non-null   object \n",
      " 36  MeetName         1423354 non-null  object \n",
      "dtypes: float64(22), object(15)\n",
      "memory usage: 401.8+ MB\n"
     ]
    }
   ],
   "source": [
    "df.info()"
   ]
  },
  {
   "cell_type": "code",
   "execution_count": 5,
   "id": "608fea99",
   "metadata": {},
   "outputs": [
    {
     "name": "stdout",
     "output_type": "stream",
     "text": [
      "Squat4Kg: 99.74%\n",
      "Deadlift4Kg: 99.35%\n",
      "Bench4Kg: 99.33%\n",
      "Squat3Kg: 77.25%\n",
      "Squat2Kg: 76.58%\n",
      "Squat1Kg: 76.28%\n",
      "Deadlift3Kg: 76.12%\n",
      "Deadlift2Kg: 74.99%\n",
      "Deadlift1Kg: 74.46%\n",
      "Country: 72.68%\n",
      "Bench3Kg: 66.38%\n",
      "Bench2Kg: 65.33%\n",
      "Bench1Kg: 64.89%\n",
      "Age: 46.78%\n",
      "AgeClass: 44.72%\n",
      "MeetState: 33.85%\n",
      "Best3SquatKg: 27.53%\n",
      "Best3DeadliftKg: 24.0%\n",
      "Tested: 23.15%\n",
      "IPFPoints: 10.54%\n",
      "Best3BenchKg: 10.34%\n",
      "McCulloch: 8.37%\n",
      "Wilks: 8.36%\n",
      "Glossbrenner: 8.36%\n",
      "TotalKg: 7.74%\n",
      "BodyweightKg: 1.18%\n",
      "WeightClassKg: 0.94%\n",
      "Division: 0.57%\n",
      "Name: 0.0%\n",
      "Sex: 0.0%\n",
      "Event: 0.0%\n",
      "Equipment: 0.0%\n",
      "Place: 0.0%\n",
      "Federation: 0.0%\n",
      "Date: 0.0%\n",
      "MeetCountry: 0.0%\n",
      "MeetName: 0.0%\n"
     ]
    }
   ],
   "source": [
    "#sprawdzamy ile % danego feature brakuje\n",
    "\n",
    "lst = []\n",
    "for cname in df.columns.tolist():\n",
    "    percentage = round((100*df[cname].isna().sum()/df[cname].isna().count()), 2)\n",
    "    lst.append((cname, percentage))\n",
    "\n",
    "lst.sort(reverse=True, key = lambda x: x[1])\n",
    "\n",
    "for element in lst:\n",
    "    print(element[0] + \": \" + str(element[1]) + \"%\")"
   ]
  },
  {
   "cell_type": "code",
   "execution_count": 6,
   "id": "718d25d5",
   "metadata": {},
   "outputs": [],
   "source": [
    "#pozbywamy sie wyników które chcemy przewidywać a także wszystkich innych featurów z których można wyliczyć squata\n",
    "df = df.drop([\"Squat1Kg\", \"Squat2Kg\", \"Squat3Kg\", \"TotalKg\", \"Place\"], axis=1)\n",
    "df = df.drop([\"Wilks\", \"Glossbrenner\", \"IPFPoints\", \"McCulloch\"], axis=1)\n",
    "#usuwamy xxx4Kg bo występuje niezwykle rzadko \n",
    "#(jest to dodatkowe podejście przyznawane za jakiś błąd ze strony obsługi lub sędziów np. zawodnik miał założony zły ciężar)\n",
    "df = df.drop([\"Squat4Kg\", \"Deadlift4Kg\", \"Bench4Kg\"], axis=1)\n",
    "#ta sama informacja co Age i BodyWeightKg\n",
    "df = df.drop([\"AgeClass\", \"WeightClassKg\"], axis=1)\n"
   ]
  },
  {
   "cell_type": "code",
   "execution_count": 7,
   "id": "9b1d7780",
   "metadata": {},
   "outputs": [
    {
     "data": {
      "text/plain": [
       "Name               False\n",
       "Sex                False\n",
       "Event              False\n",
       "Equipment          False\n",
       "Age                 True\n",
       "Division            True\n",
       "BodyweightKg        True\n",
       "Best3SquatKg        True\n",
       "Bench1Kg            True\n",
       "Bench2Kg            True\n",
       "Bench3Kg            True\n",
       "Best3BenchKg        True\n",
       "Deadlift1Kg         True\n",
       "Deadlift2Kg         True\n",
       "Deadlift3Kg         True\n",
       "Best3DeadliftKg     True\n",
       "Tested              True\n",
       "Country             True\n",
       "Federation         False\n",
       "Date               False\n",
       "MeetCountry        False\n",
       "MeetState           True\n",
       "MeetName           False\n",
       "dtype: bool"
      ]
     },
     "execution_count": 7,
     "metadata": {},
     "output_type": "execute_result"
    }
   ],
   "source": [
    "df.isna().any()"
   ]
  },
  {
   "cell_type": "code",
   "execution_count": 8,
   "id": "09cdc0ec",
   "metadata": {},
   "outputs": [
    {
     "name": "stdout",
     "output_type": "stream",
     "text": [
      "SBD    1073237\n",
      "B       257179\n",
      "D        56717\n",
      "BD       27598\n",
      "S         4900\n",
      "SB        2371\n",
      "SD        1352\n",
      "Name: Event, dtype: int64\n",
      "Alan Aerts        214\n",
      "Jose Hernandez    204\n",
      "Sverre Paulsen    191\n",
      "Erik Rasmussen    186\n",
      "Bonnie Aerts      165\n",
      "                 ... \n",
      "Matthew Rich        1\n",
      "Matthew Russel      1\n",
      "Gavin Chan          1\n",
      "Quinn Troy          1\n",
      "Jan Sowa            1\n",
      "Name: Name, Length: 412574, dtype: int64\n"
     ]
    }
   ],
   "source": [
    "print(df[\"Event\"].value_counts())\n",
    "df = df.drop([\"Event\",\"MeetName\"], axis=1)\n",
    "# możemy usunąc nazwę zawodów i event bo nie chcemy żeby wpływały na predykcję\n",
    "print(df[\"Name\"].value_counts())\n",
    "df = df.drop(\"Name\", axis=1)\n",
    "#usuniemy też imiona zawodników pomimo tego, że będzie to sprzyjać zbliżeniu predykcji \n",
    "#do wyników zawodników, którzy startowali wiele razy (przy tak dużej ilości zawodników nie powinno to stworzyć dużej różnicy)"
   ]
  },
  {
   "cell_type": "code",
   "execution_count": 9,
   "id": "83c4f975",
   "metadata": {},
   "outputs": [],
   "source": [
    "# teraz pozbędziemy się wszystkich danych gdzie kluczowe feature są NaN \n",
    "# średnia byłaby tutaj słabym rozwiązaniem bo istnieje dużo zawodników startujących tylko dla jednego boju (szczególnie bench)\n",
    "# i przynawanie im średniej byłoby dużym zawyżeniem ich prawdziwych wyników\n",
    "columns = [\"BodyweightKg\", \"Age\", \"Best3DeadliftKg\", \"Best3SquatKg\", \"Best3BenchKg\"]\n",
    "\n",
    "for col in columns:\n",
    "    df = df.loc[(df[col].isna() == False) & (df[col] > 0)]"
   ]
  },
  {
   "cell_type": "code",
   "execution_count": 10,
   "id": "7cf8bdf3",
   "metadata": {},
   "outputs": [
    {
     "name": "stdout",
     "output_type": "stream",
     "text": [
      "Sex                False\n",
      "Equipment          False\n",
      "Age                False\n",
      "Division            True\n",
      "BodyweightKg       False\n",
      "Best3SquatKg       False\n",
      "Bench1Kg            True\n",
      "Bench2Kg            True\n",
      "Bench3Kg            True\n",
      "Best3BenchKg       False\n",
      "Deadlift1Kg         True\n",
      "Deadlift2Kg         True\n",
      "Deadlift3Kg         True\n",
      "Best3DeadliftKg    False\n",
      "Tested              True\n",
      "Country             True\n",
      "Federation         False\n",
      "Date               False\n",
      "MeetCountry        False\n",
      "MeetState           True\n",
      "dtype: bool\n"
     ]
    },
    {
     "data": {
      "text/html": [
       "<div>\n",
       "<style scoped>\n",
       "    .dataframe tbody tr th:only-of-type {\n",
       "        vertical-align: middle;\n",
       "    }\n",
       "\n",
       "    .dataframe tbody tr th {\n",
       "        vertical-align: top;\n",
       "    }\n",
       "\n",
       "    .dataframe thead th {\n",
       "        text-align: right;\n",
       "    }\n",
       "</style>\n",
       "<table border=\"1\" class=\"dataframe\">\n",
       "  <thead>\n",
       "    <tr style=\"text-align: right;\">\n",
       "      <th></th>\n",
       "      <th>Sex</th>\n",
       "      <th>Equipment</th>\n",
       "      <th>Age</th>\n",
       "      <th>Division</th>\n",
       "      <th>BodyweightKg</th>\n",
       "      <th>Best3SquatKg</th>\n",
       "      <th>Bench1Kg</th>\n",
       "      <th>Bench2Kg</th>\n",
       "      <th>Bench3Kg</th>\n",
       "      <th>Best3BenchKg</th>\n",
       "      <th>Deadlift1Kg</th>\n",
       "      <th>Deadlift2Kg</th>\n",
       "      <th>Deadlift3Kg</th>\n",
       "      <th>Best3DeadliftKg</th>\n",
       "      <th>Tested</th>\n",
       "      <th>Country</th>\n",
       "      <th>Federation</th>\n",
       "      <th>Date</th>\n",
       "      <th>MeetCountry</th>\n",
       "      <th>MeetState</th>\n",
       "    </tr>\n",
       "  </thead>\n",
       "  <tbody>\n",
       "    <tr>\n",
       "      <th>0</th>\n",
       "      <td>F</td>\n",
       "      <td>Wraps</td>\n",
       "      <td>29.0</td>\n",
       "      <td>F-OR</td>\n",
       "      <td>59.8</td>\n",
       "      <td>105.0</td>\n",
       "      <td>Success</td>\n",
       "      <td>Success</td>\n",
       "      <td>Success</td>\n",
       "      <td>55.0</td>\n",
       "      <td>Success</td>\n",
       "      <td>Success</td>\n",
       "      <td>Success</td>\n",
       "      <td>130.0</td>\n",
       "      <td>NaN</td>\n",
       "      <td>NaN</td>\n",
       "      <td>GPC-AUS</td>\n",
       "      <td>2018-10-27</td>\n",
       "      <td>Australia</td>\n",
       "      <td>VIC</td>\n",
       "    </tr>\n",
       "    <tr>\n",
       "      <th>1</th>\n",
       "      <td>F</td>\n",
       "      <td>Wraps</td>\n",
       "      <td>29.0</td>\n",
       "      <td>F-OR</td>\n",
       "      <td>58.5</td>\n",
       "      <td>120.0</td>\n",
       "      <td>Success</td>\n",
       "      <td>Success</td>\n",
       "      <td>Success</td>\n",
       "      <td>67.5</td>\n",
       "      <td>Success</td>\n",
       "      <td>Success</td>\n",
       "      <td>Success</td>\n",
       "      <td>145.0</td>\n",
       "      <td>NaN</td>\n",
       "      <td>NaN</td>\n",
       "      <td>GPC-AUS</td>\n",
       "      <td>2018-10-27</td>\n",
       "      <td>Australia</td>\n",
       "      <td>VIC</td>\n",
       "    </tr>\n",
       "    <tr>\n",
       "      <th>3</th>\n",
       "      <td>F</td>\n",
       "      <td>Wraps</td>\n",
       "      <td>23.0</td>\n",
       "      <td>F-OR</td>\n",
       "      <td>60.0</td>\n",
       "      <td>105.0</td>\n",
       "      <td>Success</td>\n",
       "      <td>Success</td>\n",
       "      <td>Fail</td>\n",
       "      <td>72.5</td>\n",
       "      <td>Success</td>\n",
       "      <td>Fail</td>\n",
       "      <td>Fail</td>\n",
       "      <td>132.5</td>\n",
       "      <td>NaN</td>\n",
       "      <td>NaN</td>\n",
       "      <td>GPC-AUS</td>\n",
       "      <td>2018-10-27</td>\n",
       "      <td>Australia</td>\n",
       "      <td>VIC</td>\n",
       "    </tr>\n",
       "    <tr>\n",
       "      <th>4</th>\n",
       "      <td>F</td>\n",
       "      <td>Wraps</td>\n",
       "      <td>45.0</td>\n",
       "      <td>F-OR</td>\n",
       "      <td>104.0</td>\n",
       "      <td>140.0</td>\n",
       "      <td>Success</td>\n",
       "      <td>Success</td>\n",
       "      <td>Success</td>\n",
       "      <td>80.0</td>\n",
       "      <td>Success</td>\n",
       "      <td>Success</td>\n",
       "      <td>Success</td>\n",
       "      <td>170.0</td>\n",
       "      <td>NaN</td>\n",
       "      <td>NaN</td>\n",
       "      <td>GPC-AUS</td>\n",
       "      <td>2018-10-27</td>\n",
       "      <td>Australia</td>\n",
       "      <td>VIC</td>\n",
       "    </tr>\n",
       "    <tr>\n",
       "      <th>5</th>\n",
       "      <td>F</td>\n",
       "      <td>Wraps</td>\n",
       "      <td>37.0</td>\n",
       "      <td>F-OR</td>\n",
       "      <td>74.0</td>\n",
       "      <td>142.5</td>\n",
       "      <td>Success</td>\n",
       "      <td>Success</td>\n",
       "      <td>Success</td>\n",
       "      <td>82.5</td>\n",
       "      <td>Success</td>\n",
       "      <td>Success</td>\n",
       "      <td>Success</td>\n",
       "      <td>145.0</td>\n",
       "      <td>NaN</td>\n",
       "      <td>NaN</td>\n",
       "      <td>GPC-AUS</td>\n",
       "      <td>2018-10-27</td>\n",
       "      <td>Australia</td>\n",
       "      <td>VIC</td>\n",
       "    </tr>\n",
       "  </tbody>\n",
       "</table>\n",
       "</div>"
      ],
      "text/plain": [
       "  Sex Equipment   Age Division  BodyweightKg  Best3SquatKg Bench1Kg Bench2Kg  \\\n",
       "0   F     Wraps  29.0     F-OR          59.8         105.0  Success  Success   \n",
       "1   F     Wraps  29.0     F-OR          58.5         120.0  Success  Success   \n",
       "3   F     Wraps  23.0     F-OR          60.0         105.0  Success  Success   \n",
       "4   F     Wraps  45.0     F-OR         104.0         140.0  Success  Success   \n",
       "5   F     Wraps  37.0     F-OR          74.0         142.5  Success  Success   \n",
       "\n",
       "  Bench3Kg  Best3BenchKg Deadlift1Kg Deadlift2Kg Deadlift3Kg  Best3DeadliftKg  \\\n",
       "0  Success          55.0     Success     Success     Success            130.0   \n",
       "1  Success          67.5     Success     Success     Success            145.0   \n",
       "3     Fail          72.5     Success        Fail        Fail            132.5   \n",
       "4  Success          80.0     Success     Success     Success            170.0   \n",
       "5  Success          82.5     Success     Success     Success            145.0   \n",
       "\n",
       "  Tested Country Federation        Date MeetCountry MeetState  \n",
       "0    NaN     NaN    GPC-AUS  2018-10-27   Australia       VIC  \n",
       "1    NaN     NaN    GPC-AUS  2018-10-27   Australia       VIC  \n",
       "3    NaN     NaN    GPC-AUS  2018-10-27   Australia       VIC  \n",
       "4    NaN     NaN    GPC-AUS  2018-10-27   Australia       VIC  \n",
       "5    NaN     NaN    GPC-AUS  2018-10-27   Australia       VIC  "
      ]
     },
     "execution_count": 10,
     "metadata": {},
     "output_type": "execute_result"
    }
   ],
   "source": [
    "print(df.isna().any())\n",
    "# pozostałe NaN w 1,2,3Kg wynikają z niewykorzystanych podejść zawodników zastąpimy je danymi kategorycznymi\n",
    "# jak łatwo się domyślić nie potrzeba tam dokładnych wyników bo ta sama informacja jest już w Best3Kg\n",
    "# wystarczy nam informacja o ilości zaliczonych,spalonych i niewykorzystanych podejść\n",
    "attemptCols = [\"Deadlift1Kg\", \"Deadlift2Kg\", \"Deadlift3Kg\", \"Bench1Kg\", \"Bench2Kg\", \"Bench3Kg\"]\n",
    "\n",
    "\n",
    "def attemptTransformer(datapoint):\n",
    "    if math.isnan(datapoint):\n",
    "        return \"Unknown\"\n",
    "    elif datapoint <= 0:\n",
    "        return \"Fail\"\n",
    "    else:\n",
    "        return \"Success\"\n",
    "    \n",
    "for col in attemptCols:\n",
    "    df[col] = df[col].apply(lambda x: attemptTransformer(x))\n",
    "df.head()"
   ]
  },
  {
   "cell_type": "code",
   "execution_count": 11,
   "id": "bdcde14d",
   "metadata": {},
   "outputs": [
    {
     "name": "stdout",
     "output_type": "stream",
     "text": [
      "0          NaN\n",
      "1          NaN\n",
      "3          NaN\n",
      "4          NaN\n",
      "5          NaN\n",
      "          ... \n",
      "1423347    Yes\n",
      "1423348    Yes\n",
      "1423349    Yes\n",
      "1423350    Yes\n",
      "1423351    Yes\n",
      "Name: Tested, Length: 468843, dtype: object\n"
     ]
    }
   ],
   "source": [
    "#Zostaje nam division, tested, country i MeetState\n",
    "print(df[\"Tested\"])\n",
    "#w tested wystarczy zamienić NaN na informacje o tym że osoba nie była testowana np \"No\"\n",
    "df[\"Tested\"] = df[\"Tested\"].fillna(\"No\")\n",
    "\n",
    "# w pozostałych przypadkach po prostu zamienimy je na missing value\n",
    "from sklearn.impute import SimpleImputer\n",
    "\n",
    "simpImputeCols = [\"Country\", \"MeetState\", \"Division\"]\n",
    "\n",
    "simpImputer = SimpleImputer(strategy=\"constant\")\n",
    "df[simpImputeCols] = simpImputer.fit_transform(df[simpImputeCols])\n"
   ]
  },
  {
   "cell_type": "code",
   "execution_count": 12,
   "id": "ff2de75e",
   "metadata": {},
   "outputs": [
    {
     "name": "stdout",
     "output_type": "stream",
     "text": [
      "Sex                False\n",
      "Equipment          False\n",
      "Age                False\n",
      "Division           False\n",
      "BodyweightKg       False\n",
      "Best3SquatKg       False\n",
      "Bench1Kg           False\n",
      "Bench2Kg           False\n",
      "Bench3Kg           False\n",
      "Best3BenchKg       False\n",
      "Deadlift1Kg        False\n",
      "Deadlift2Kg        False\n",
      "Deadlift3Kg        False\n",
      "Best3DeadliftKg    False\n",
      "Tested             False\n",
      "Country            False\n",
      "Federation         False\n",
      "Date               False\n",
      "MeetCountry        False\n",
      "MeetState          False\n",
      "dtype: bool\n"
     ]
    }
   ],
   "source": [
    "#Teraz nie mamy już żadnych NaN\n",
    "print(df.isna().any())\n",
    "df.index = np.arange(df.shape[0])"
   ]
  },
  {
   "cell_type": "code",
   "execution_count": 13,
   "id": "b1e9f0f2",
   "metadata": {},
   "outputs": [],
   "source": [
    "#Oddzielamy features od przewidywanej wartości\n",
    "X = df.drop(\"Best3SquatKg\", axis=1)\n",
    "y = df[\"Best3SquatKg\"]"
   ]
  },
  {
   "cell_type": "code",
   "execution_count": 14,
   "id": "3d2458ae",
   "metadata": {},
   "outputs": [
    {
     "name": "stderr",
     "output_type": "stream",
     "text": [
      "C:\\Users\\Sou\\AppData\\Local\\Temp/ipykernel_10716/3740356689.py:9: DeprecationWarning: `np.bool` is a deprecated alias for the builtin `bool`. To silence this warning, use `bool` by itself. Doing this will not modify any behavior and is safe. If you specifically wanted the numpy scalar type, use `np.bool_` here.\n",
      "Deprecated in NumPy 1.20; for more details and guidance: https://numpy.org/devdocs/release/1.20.0-notes.html#deprecations\n",
      "  mask = np.zeros_like(corr, dtype=np.bool)\n"
     ]
    },
    {
     "data": {
      "image/png": "[encoded data removed]",
      "text/plain": [
       "<Figure size 792x648 with 2 Axes>"
      ]
     },
     "metadata": {},
     "output_type": "display_data"
    },
    {
     "data": {
      "text/html": [
       "<div>\n",
       "<style scoped>\n",
       "    .dataframe tbody tr th:only-of-type {\n",
       "        vertical-align: middle;\n",
       "    }\n",
       "\n",
       "    .dataframe tbody tr th {\n",
       "        vertical-align: top;\n",
       "    }\n",
       "\n",
       "    .dataframe thead th {\n",
       "        text-align: right;\n",
       "    }\n",
       "</style>\n",
       "<table border=\"1\" class=\"dataframe\">\n",
       "  <thead>\n",
       "    <tr style=\"text-align: right;\">\n",
       "      <th></th>\n",
       "      <th>Age</th>\n",
       "      <th>BodyweightKg</th>\n",
       "      <th>Best3BenchKg</th>\n",
       "      <th>Best3DeadliftKg</th>\n",
       "    </tr>\n",
       "  </thead>\n",
       "  <tbody>\n",
       "    <tr>\n",
       "      <th>Age</th>\n",
       "      <td>1.000000</td>\n",
       "      <td>0.135323</td>\n",
       "      <td>0.079327</td>\n",
       "      <td>0.040678</td>\n",
       "    </tr>\n",
       "    <tr>\n",
       "      <th>BodyweightKg</th>\n",
       "      <td>0.135323</td>\n",
       "      <td>1.000000</td>\n",
       "      <td>0.656754</td>\n",
       "      <td>0.637153</td>\n",
       "    </tr>\n",
       "    <tr>\n",
       "      <th>Best3BenchKg</th>\n",
       "      <td>0.079327</td>\n",
       "      <td>0.656754</td>\n",
       "      <td>1.000000</td>\n",
       "      <td>0.869432</td>\n",
       "    </tr>\n",
       "    <tr>\n",
       "      <th>Best3DeadliftKg</th>\n",
       "      <td>0.040678</td>\n",
       "      <td>0.637153</td>\n",
       "      <td>0.869432</td>\n",
       "      <td>1.000000</td>\n",
       "    </tr>\n",
       "  </tbody>\n",
       "</table>\n",
       "</div>"
      ],
      "text/plain": [
       "                      Age  BodyweightKg  Best3BenchKg  Best3DeadliftKg\n",
       "Age              1.000000      0.135323      0.079327         0.040678\n",
       "BodyweightKg     0.135323      1.000000      0.656754         0.637153\n",
       "Best3BenchKg     0.079327      0.656754      1.000000         0.869432\n",
       "Best3DeadliftKg  0.040678      0.637153      0.869432         1.000000"
      ]
     },
     "execution_count": 14,
     "metadata": {},
     "output_type": "execute_result"
    }
   ],
   "source": [
    "# zobaczymy heatmape dla numerycznych features\n",
    "numColumns = [col for col in X.columns.tolist() if X[col].dtype == \"float64\"]\n",
    "\n",
    "sns.set(style=\"darkgrid\")\n",
    "\n",
    "corr = X[numColumns].corr()\n",
    "\n",
    "# Generate a mask for the upper triangle\n",
    "mask = np.zeros_like(corr, dtype=np.bool)\n",
    "mask[np.triu_indices_from(mask)] = True\n",
    "\n",
    "# Set up the matplotlib figure\n",
    "f, ax = plt.subplots(figsize=(11, 9))\n",
    "\n",
    "# Generate a custom diverging colormap\n",
    "cmap = sns.diverging_palette(220, 10, as_cmap=True)\n",
    "\n",
    "# Draw the heatmap with the mask and correct aspect ratio\n",
    "sns.heatmap(corr, mask=mask, cmap=cmap, vmin=-1, vmax=1,\n",
    "            square=True, xticklabels=5, yticklabels=5,\n",
    "            linewidths=.5, cbar_kws={\"shrink\": .5}, ax=ax)\n",
    "plt.show()\n",
    "corr\n"
   ]
  },
  {
   "cell_type": "code",
   "execution_count": 15,
   "id": "5676b7ff",
   "metadata": {},
   "outputs": [],
   "source": [
    "#sns.lineplot(x=X[\"Date\"], y=y, linewidth=.1, estimator='mean')\n",
    "# nie widać zależności wyników od czasu więc możemy pozbyć się daty zawodów"
   ]
  },
  {
   "cell_type": "code",
   "execution_count": 16,
   "id": "0c4f54ae",
   "metadata": {},
   "outputs": [
    {
     "name": "stdout",
     "output_type": "stream",
     "text": [
      "Sex: 2\n",
      "Equipment: 4\n",
      "Division: 3318\n",
      "Bench1Kg: 3\n",
      "Bench2Kg: 3\n",
      "Bench3Kg: 3\n",
      "Deadlift1Kg: 3\n",
      "Deadlift2Kg: 3\n",
      "Deadlift3Kg: 3\n",
      "Tested: 2\n",
      "Country: 142\n",
      "Federation: 196\n",
      "MeetCountry: 92\n",
      "MeetState: 110\n"
     ]
    }
   ],
   "source": [
    "catColumns = [col for col in X.columns.tolist() if X[col].dtype == \"object\"]\n",
    "X = X.drop(\"Date\", axis=1)\n",
    "catColumns.remove(\"Date\")\n",
    "for col in catColumns:\n",
    "    print(col + \": \" + str(df[col].nunique()))\n",
    "\n",
    "\n",
    "#Jak widac mamy kilka kategorycznych feature ktorych nie mozemy zonehotencodowac bo jest zbyt duzo unique values"
   ]
  },
  {
   "cell_type": "code",
   "execution_count": 17,
   "id": "d6cb5e26",
   "metadata": {},
   "outputs": [
    {
     "data": {
      "image/png": "[encoded data removed]",
      "text/plain": [
       "<Figure size 432x288 with 1 Axes>"
      ]
     },
     "metadata": {},
     "output_type": "display_data"
    },
    {
     "data": {
      "image/png": "[encoded data removed]",
      "text/plain": [
       "<Figure size 432x288 with 1 Axes>"
      ]
     },
     "metadata": {},
     "output_type": "display_data"
    },
    {
     "data": {
      "image/png": "[encoded data removed]",
      "text/plain": [
       "<Figure size 432x288 with 1 Axes>"
      ]
     },
     "metadata": {},
     "output_type": "display_data"
    },
    {
     "data": {
      "image/png": "[encoded data removed]",
      "text/plain": [
       "<Figure size 432x288 with 1 Axes>"
      ]
     },
     "metadata": {},
     "output_type": "display_data"
    },
    {
     "data": {
      "image/png": "[encoded data removed]",
      "text/plain": [
       "<Figure size 432x288 with 1 Axes>"
      ]
     },
     "metadata": {},
     "output_type": "display_data"
    },
    {
     "data": {
      "image/png": "[encoded data removed]",
      "text/plain": [
       "<Figure size 432x288 with 1 Axes>"
      ]
     },
     "metadata": {},
     "output_type": "display_data"
    },
    {
     "data": {
      "image/png": "[encoded data removed]",
      "text/plain": [
       "<Figure size 432x288 with 1 Axes>"
      ]
     },
     "metadata": {},
     "output_type": "display_data"
    },
    {
     "data": {
      "image/png": "[encoded data removed]",
      "text/plain": [
       "<Figure size 432x288 with 1 Axes>"
      ]
     },
     "metadata": {},
     "output_type": "display_data"
    },
    {
     "data": {
      "image/png": "[encoded data removed]",
      "text/plain": [
       "<Figure size 432x288 with 1 Axes>"
      ]
     },
     "metadata": {},
     "output_type": "display_data"
    }
   ],
   "source": [
    "for name in catColumns:\n",
    "    if X[name].nunique() < 15:\n",
    "        sns.boxplot(x=X[name], y=y)\n",
    "        plt.show()"
   ]
  },
  {
   "cell_type": "code",
   "execution_count": 18,
   "id": "e209c3fe",
   "metadata": {},
   "outputs": [],
   "source": [
    "hotEncode = [\"Sex\", \"Equipment\", \"Tested\", \"Deadlift1Kg\", \"Deadlift2Kg\", \"Deadlift3Kg\", \"Bench1Kg\", \"Bench2Kg\", \"Bench3Kg\"]\n",
    "\n",
    "## one hot encoding\n",
    "def oneHotEncode(X,hotEncode):  \n",
    "    for col in hotEncode:\n",
    "        X1 = pd.get_dummies(X[col], prefix=col)\n",
    "        X = pd.concat([X, X1], axis=1)\n",
    "        X= X.drop(col, axis=1)\n",
    "    return (X)\n",
    "\n",
    "\n"
   ]
  },
  {
   "cell_type": "code",
   "execution_count": 30,
   "id": "090e170b",
   "metadata": {},
   "outputs": [],
   "source": [
    "targetEncode = [\"Division\", \"Country\", \"Federation\", \"MeetCountry\", \"MeetState\"]\n",
    "\n",
    "#target encoding dopiero po train test split\n",
    "scaler =StandardScaler()\n",
    "X[numColumns] = scaler.fit_transform(X[numColumns])"
   ]
  },
  {
   "cell_type": "code",
   "execution_count": 31,
   "id": "45dcfd07",
   "metadata": {},
   "outputs": [
    {
     "name": "stderr",
     "output_type": "stream",
     "text": [
      "C:\\Users\\Sou\\anaconda3\\lib\\site-packages\\category_encoders\\utils.py:21: FutureWarning: is_categorical is deprecated and will be removed in a future version.  Use is_categorical_dtype instead\n",
      "  elif pd.api.types.is_categorical(cols):\n"
     ]
    }
   ],
   "source": [
    "X_train, X_test, y_train, y_test = train_test_split(X, y, test_size=0.2, random_state=1)\n",
    "\n",
    "enc = TargetEncoder(cols=targetEncode, handle_missing=\"value\", handle_unknown=\"value\")\n",
    "\n",
    "X_train = oneHotEncode(X_train,hotEncode)\n",
    "X_train = enc.fit_transform(X_train, y_train)\n",
    "\n",
    "X_val, X_test, y_val, y_test = train_test_split(X_test, y_test, test_size=0.5, random_state=1) \n",
    "\n",
    "X_test = oneHotEncode(X_test,hotEncode)\n",
    "X_val = oneHotEncode(X_val,hotEncode)\n",
    "\n",
    "X_val = enc.transform(X_val)\n",
    "X_test = enc.transform(X_test)\n"
   ]
  },
  {
   "cell_type": "code",
   "execution_count": null,
   "id": "4e96e4d6",
   "metadata": {},
   "outputs": [
    {
     "name": "stdout",
     "output_type": "stream",
     "text": [
      "[LibSVM]"
     ]
    }
   ],
   "source": [
    "model1=SVR(verbose=True)\n",
    "model1.fit(X_val, y_val)"
   ]
  },
  {
   "cell_type": "code",
   "execution_count": null,
   "id": "bcc8de00",
   "metadata": {},
   "outputs": [],
   "source": [
    "print(\"R^2: {}\".format(metrics.r2_score(y_test, model1.predict(X_test)) ))\n",
    "#print(\"Explained variance score: {}\".format( metrics.explained_variance_score(y_test, model1.predict(X_test)) ))\n",
    "#print(\"Median absolute error: {}\".format( metrics.median_absolute_error(y_test, model1.predict(X_test)) ))\n",
    "#print(\"Mean squared error: {}\".format( metrics.mean_squared_error(y_test, model1.predict(X_test)) ))\n",
    "#print(\"Mean absolute errors: {}\".format(metrics.mean_absolute_error(y_test, mod1el.predict(X_test)) ))"
   ]
  },
  {
   "cell_type": "code",
   "execution_count": 22,
   "id": "8a344926",
   "metadata": {},
   "outputs": [
    {
     "name": "stdout",
     "output_type": "stream",
     "text": [
      "Epoch 1/20\n"
     ]
    },
    {
     "name": "stderr",
     "output_type": "stream",
     "text": [
      "C:\\Users\\Sou\\anaconda3\\lib\\site-packages\\keras\\optimizer_v2\\gradient_descent.py:102: UserWarning: The `lr` argument is deprecated, use `learning_rate` instead.\n",
      "  super(SGD, self).__init__(name, **kwargs)\n"
     ]
    },
    {
     "name": "stdout",
     "output_type": "stream",
     "text": [
      "11722/11722 [==============================] - 18s 1ms/step - loss: 650.9106 - val_loss: 538.0569\n",
      "Epoch 2/20\n",
      "11722/11722 [==============================] - 18s 2ms/step - loss: 534.3918 - val_loss: 528.8314\n",
      "Epoch 3/20\n",
      "11722/11722 [==============================] - 17s 1ms/step - loss: 523.7683 - val_loss: 523.8111\n",
      "Epoch 4/20\n",
      "11722/11722 [==============================] - 17s 1ms/step - loss: 518.5974 - val_loss: 528.9029\n",
      "Epoch 5/20\n",
      "11722/11722 [==============================] - 19s 2ms/step - loss: 515.5800 - val_loss: 516.8273\n",
      "Epoch 6/20\n",
      "11722/11722 [==============================] - 17s 1ms/step - loss: 512.2921 - val_loss: 510.5585\n",
      "Epoch 7/20\n",
      " 5097/11722 [============>.................] - ETA: 8s - loss: 513.6008"
     ]
    },
    {
     "ename": "KeyboardInterrupt",
     "evalue": "",
     "output_type": "error",
     "traceback": [
      "\u001b[1;31m---------------------------------------------------------------------------\u001b[0m",
      "\u001b[1;31mKeyboardInterrupt\u001b[0m                         Traceback (most recent call last)",
      "\u001b[1;32m~\\AppData\\Local\\Temp/ipykernel_10716/1320773892.py\u001b[0m in \u001b[0;36m<module>\u001b[1;34m\u001b[0m\n\u001b[0;32m     15\u001b[0m \u001b[1;33m\u001b[0m\u001b[0m\n\u001b[0;32m     16\u001b[0m \u001b[1;33m\u001b[0m\u001b[0m\n\u001b[1;32m---> 17\u001b[1;33m \u001b[0mhistory2\u001b[0m \u001b[1;33m=\u001b[0m \u001b[0mmodel\u001b[0m\u001b[1;33m.\u001b[0m\u001b[0mfit\u001b[0m\u001b[1;33m(\u001b[0m\u001b[0mX_train_scaled\u001b[0m\u001b[1;33m,\u001b[0m \u001b[0my_train\u001b[0m\u001b[1;33m,\u001b[0m \u001b[0mvalidation_data\u001b[0m\u001b[1;33m=\u001b[0m \u001b[1;33m(\u001b[0m\u001b[0mX_test_scaled\u001b[0m\u001b[1;33m,\u001b[0m \u001b[0my_test\u001b[0m\u001b[1;33m)\u001b[0m\u001b[1;33m,\u001b[0m \u001b[0mbatch_size\u001b[0m\u001b[1;33m=\u001b[0m\u001b[1;36m32\u001b[0m\u001b[1;33m,\u001b[0m \u001b[0mepochs\u001b[0m\u001b[1;33m=\u001b[0m\u001b[1;36m20\u001b[0m\u001b[1;33m)\u001b[0m\u001b[1;33m\u001b[0m\u001b[1;33m\u001b[0m\u001b[0m\n\u001b[0m",
      "\u001b[1;32m~\\anaconda3\\lib\\site-packages\\keras\\utils\\traceback_utils.py\u001b[0m in \u001b[0;36merror_handler\u001b[1;34m(*args, **kwargs)\u001b[0m\n\u001b[0;32m     62\u001b[0m     \u001b[0mfiltered_tb\u001b[0m \u001b[1;33m=\u001b[0m \u001b[1;32mNone\u001b[0m\u001b[1;33m\u001b[0m\u001b[1;33m\u001b[0m\u001b[0m\n\u001b[0;32m     63\u001b[0m     \u001b[1;32mtry\u001b[0m\u001b[1;33m:\u001b[0m\u001b[1;33m\u001b[0m\u001b[1;33m\u001b[0m\u001b[0m\n\u001b[1;32m---> 64\u001b[1;33m       \u001b[1;32mreturn\u001b[0m \u001b[0mfn\u001b[0m\u001b[1;33m(\u001b[0m\u001b[1;33m*\u001b[0m\u001b[0margs\u001b[0m\u001b[1;33m,\u001b[0m \u001b[1;33m**\u001b[0m\u001b[0mkwargs\u001b[0m\u001b[1;33m)\u001b[0m\u001b[1;33m\u001b[0m\u001b[1;33m\u001b[0m\u001b[0m\n\u001b[0m\u001b[0;32m     65\u001b[0m     \u001b[1;32mexcept\u001b[0m \u001b[0mException\u001b[0m \u001b[1;32mas\u001b[0m \u001b[0me\u001b[0m\u001b[1;33m:\u001b[0m  \u001b[1;31m# pylint: disable=broad-except\u001b[0m\u001b[1;33m\u001b[0m\u001b[1;33m\u001b[0m\u001b[0m\n\u001b[0;32m     66\u001b[0m       \u001b[0mfiltered_tb\u001b[0m \u001b[1;33m=\u001b[0m \u001b[0m_process_traceback_frames\u001b[0m\u001b[1;33m(\u001b[0m\u001b[0me\u001b[0m\u001b[1;33m.\u001b[0m\u001b[0m__traceback__\u001b[0m\u001b[1;33m)\u001b[0m\u001b[1;33m\u001b[0m\u001b[1;33m\u001b[0m\u001b[0m\n",
      "\u001b[1;32m~\\anaconda3\\lib\\site-packages\\keras\\engine\\training.py\u001b[0m in \u001b[0;36mfit\u001b[1;34m(self, x, y, batch_size, epochs, verbose, callbacks, validation_split, validation_data, shuffle, class_weight, sample_weight, initial_epoch, steps_per_epoch, validation_steps, validation_batch_size, validation_freq, max_queue_size, workers, use_multiprocessing)\u001b[0m\n\u001b[0;32m   1374\u001b[0m         \u001b[0mcallbacks\u001b[0m\u001b[1;33m.\u001b[0m\u001b[0mon_epoch_begin\u001b[0m\u001b[1;33m(\u001b[0m\u001b[0mepoch\u001b[0m\u001b[1;33m)\u001b[0m\u001b[1;33m\u001b[0m\u001b[1;33m\u001b[0m\u001b[0m\n\u001b[0;32m   1375\u001b[0m         \u001b[1;32mwith\u001b[0m \u001b[0mdata_handler\u001b[0m\u001b[1;33m.\u001b[0m\u001b[0mcatch_stop_iteration\u001b[0m\u001b[1;33m(\u001b[0m\u001b[1;33m)\u001b[0m\u001b[1;33m:\u001b[0m\u001b[1;33m\u001b[0m\u001b[1;33m\u001b[0m\u001b[0m\n\u001b[1;32m-> 1376\u001b[1;33m           \u001b[1;32mfor\u001b[0m \u001b[0mstep\u001b[0m \u001b[1;32min\u001b[0m \u001b[0mdata_handler\u001b[0m\u001b[1;33m.\u001b[0m\u001b[0msteps\u001b[0m\u001b[1;33m(\u001b[0m\u001b[1;33m)\u001b[0m\u001b[1;33m:\u001b[0m\u001b[1;33m\u001b[0m\u001b[1;33m\u001b[0m\u001b[0m\n\u001b[0m\u001b[0;32m   1377\u001b[0m             with tf.profiler.experimental.Trace(\n\u001b[0;32m   1378\u001b[0m                 \u001b[1;34m'train'\u001b[0m\u001b[1;33m,\u001b[0m\u001b[1;33m\u001b[0m\u001b[1;33m\u001b[0m\u001b[0m\n",
      "\u001b[1;32m~\\anaconda3\\lib\\site-packages\\keras\\engine\\data_adapter.py\u001b[0m in \u001b[0;36msteps\u001b[1;34m(self)\u001b[0m\n\u001b[0;32m   1244\u001b[0m       \u001b[1;32mif\u001b[0m \u001b[0mself\u001b[0m\u001b[1;33m.\u001b[0m\u001b[0m_insufficient_data\u001b[0m\u001b[1;33m:\u001b[0m  \u001b[1;31m# Set by `catch_stop_iteration`.\u001b[0m\u001b[1;33m\u001b[0m\u001b[1;33m\u001b[0m\u001b[0m\n\u001b[0;32m   1245\u001b[0m         \u001b[1;32mbreak\u001b[0m\u001b[1;33m\u001b[0m\u001b[1;33m\u001b[0m\u001b[0m\n\u001b[1;32m-> 1246\u001b[1;33m       \u001b[0moriginal_spe\u001b[0m \u001b[1;33m=\u001b[0m \u001b[0mself\u001b[0m\u001b[1;33m.\u001b[0m\u001b[0m_steps_per_execution\u001b[0m\u001b[1;33m.\u001b[0m\u001b[0mnumpy\u001b[0m\u001b[1;33m(\u001b[0m\u001b[1;33m)\u001b[0m\u001b[1;33m.\u001b[0m\u001b[0mitem\u001b[0m\u001b[1;33m(\u001b[0m\u001b[1;33m)\u001b[0m\u001b[1;33m\u001b[0m\u001b[1;33m\u001b[0m\u001b[0m\n\u001b[0m\u001b[0;32m   1247\u001b[0m       can_run_full_execution = (\n\u001b[0;32m   1248\u001b[0m           \u001b[0moriginal_spe\u001b[0m \u001b[1;33m==\u001b[0m \u001b[1;36m1\u001b[0m \u001b[1;32mor\u001b[0m\u001b[1;33m\u001b[0m\u001b[1;33m\u001b[0m\u001b[0m\n",
      "\u001b[1;32m~\\anaconda3\\lib\\site-packages\\tensorflow\\python\\ops\\resource_variable_ops.py\u001b[0m in \u001b[0;36mnumpy\u001b[1;34m(self)\u001b[0m\n\u001b[0;32m    672\u001b[0m   \u001b[1;32mdef\u001b[0m \u001b[0mnumpy\u001b[0m\u001b[1;33m(\u001b[0m\u001b[0mself\u001b[0m\u001b[1;33m)\u001b[0m\u001b[1;33m:\u001b[0m\u001b[1;33m\u001b[0m\u001b[1;33m\u001b[0m\u001b[0m\n\u001b[0;32m    673\u001b[0m     \u001b[1;32mif\u001b[0m \u001b[0mcontext\u001b[0m\u001b[1;33m.\u001b[0m\u001b[0mexecuting_eagerly\u001b[0m\u001b[1;33m(\u001b[0m\u001b[1;33m)\u001b[0m\u001b[1;33m:\u001b[0m\u001b[1;33m\u001b[0m\u001b[1;33m\u001b[0m\u001b[0m\n\u001b[1;32m--> 674\u001b[1;33m       \u001b[1;32mreturn\u001b[0m \u001b[0mself\u001b[0m\u001b[1;33m.\u001b[0m\u001b[0mread_value\u001b[0m\u001b[1;33m(\u001b[0m\u001b[1;33m)\u001b[0m\u001b[1;33m.\u001b[0m\u001b[0mnumpy\u001b[0m\u001b[1;33m(\u001b[0m\u001b[1;33m)\u001b[0m\u001b[1;33m\u001b[0m\u001b[1;33m\u001b[0m\u001b[0m\n\u001b[0m\u001b[0;32m    675\u001b[0m     raise NotImplementedError(\n\u001b[0;32m    676\u001b[0m         \"numpy() is only available when eager execution is enabled.\")\n",
      "\u001b[1;32m~\\anaconda3\\lib\\site-packages\\tensorflow\\python\\ops\\resource_variable_ops.py\u001b[0m in \u001b[0;36mread_value\u001b[1;34m(self)\u001b[0m\n\u001b[0;32m    750\u001b[0m     \u001b[1;31m# Return an identity so it can get placed on whatever device the context\u001b[0m\u001b[1;33m\u001b[0m\u001b[1;33m\u001b[0m\u001b[0m\n\u001b[0;32m    751\u001b[0m     \u001b[1;31m# specifies instead of the device where the variable is.\u001b[0m\u001b[1;33m\u001b[0m\u001b[1;33m\u001b[0m\u001b[0m\n\u001b[1;32m--> 752\u001b[1;33m     \u001b[1;32mreturn\u001b[0m \u001b[0marray_ops\u001b[0m\u001b[1;33m.\u001b[0m\u001b[0midentity\u001b[0m\u001b[1;33m(\u001b[0m\u001b[0mvalue\u001b[0m\u001b[1;33m)\u001b[0m\u001b[1;33m\u001b[0m\u001b[1;33m\u001b[0m\u001b[0m\n\u001b[0m\u001b[0;32m    753\u001b[0m \u001b[1;33m\u001b[0m\u001b[0m\n\u001b[0;32m    754\u001b[0m   \u001b[1;32mdef\u001b[0m \u001b[0msparse_read\u001b[0m\u001b[1;33m(\u001b[0m\u001b[0mself\u001b[0m\u001b[1;33m,\u001b[0m \u001b[0mindices\u001b[0m\u001b[1;33m,\u001b[0m \u001b[0mname\u001b[0m\u001b[1;33m=\u001b[0m\u001b[1;32mNone\u001b[0m\u001b[1;33m)\u001b[0m\u001b[1;33m:\u001b[0m\u001b[1;33m\u001b[0m\u001b[1;33m\u001b[0m\u001b[0m\n",
      "\u001b[1;32m~\\anaconda3\\lib\\site-packages\\tensorflow\\python\\util\\traceback_utils.py\u001b[0m in \u001b[0;36merror_handler\u001b[1;34m(*args, **kwargs)\u001b[0m\n\u001b[0;32m    148\u001b[0m     \u001b[0mfiltered_tb\u001b[0m \u001b[1;33m=\u001b[0m \u001b[1;32mNone\u001b[0m\u001b[1;33m\u001b[0m\u001b[1;33m\u001b[0m\u001b[0m\n\u001b[0;32m    149\u001b[0m     \u001b[1;32mtry\u001b[0m\u001b[1;33m:\u001b[0m\u001b[1;33m\u001b[0m\u001b[1;33m\u001b[0m\u001b[0m\n\u001b[1;32m--> 150\u001b[1;33m       \u001b[1;32mreturn\u001b[0m \u001b[0mfn\u001b[0m\u001b[1;33m(\u001b[0m\u001b[1;33m*\u001b[0m\u001b[0margs\u001b[0m\u001b[1;33m,\u001b[0m \u001b[1;33m**\u001b[0m\u001b[0mkwargs\u001b[0m\u001b[1;33m)\u001b[0m\u001b[1;33m\u001b[0m\u001b[1;33m\u001b[0m\u001b[0m\n\u001b[0m\u001b[0;32m    151\u001b[0m     \u001b[1;32mexcept\u001b[0m \u001b[0mException\u001b[0m \u001b[1;32mas\u001b[0m \u001b[0me\u001b[0m\u001b[1;33m:\u001b[0m\u001b[1;33m\u001b[0m\u001b[1;33m\u001b[0m\u001b[0m\n\u001b[0;32m    152\u001b[0m       \u001b[0mfiltered_tb\u001b[0m \u001b[1;33m=\u001b[0m \u001b[0m_process_traceback_frames\u001b[0m\u001b[1;33m(\u001b[0m\u001b[0me\u001b[0m\u001b[1;33m.\u001b[0m\u001b[0m__traceback__\u001b[0m\u001b[1;33m)\u001b[0m\u001b[1;33m\u001b[0m\u001b[1;33m\u001b[0m\u001b[0m\n",
      "\u001b[1;32m~\\anaconda3\\lib\\site-packages\\tensorflow\\python\\util\\dispatch.py\u001b[0m in \u001b[0;36mop_dispatch_handler\u001b[1;34m(*args, **kwargs)\u001b[0m\n\u001b[0;32m   1080\u001b[0m       \u001b[1;31m# Fallback dispatch system (dispatch v1):\u001b[0m\u001b[1;33m\u001b[0m\u001b[1;33m\u001b[0m\u001b[0m\n\u001b[0;32m   1081\u001b[0m       \u001b[1;32mtry\u001b[0m\u001b[1;33m:\u001b[0m\u001b[1;33m\u001b[0m\u001b[1;33m\u001b[0m\u001b[0m\n\u001b[1;32m-> 1082\u001b[1;33m         \u001b[1;32mreturn\u001b[0m \u001b[0mdispatch_target\u001b[0m\u001b[1;33m(\u001b[0m\u001b[1;33m*\u001b[0m\u001b[0margs\u001b[0m\u001b[1;33m,\u001b[0m \u001b[1;33m**\u001b[0m\u001b[0mkwargs\u001b[0m\u001b[1;33m)\u001b[0m\u001b[1;33m\u001b[0m\u001b[1;33m\u001b[0m\u001b[0m\n\u001b[0m\u001b[0;32m   1083\u001b[0m       \u001b[1;32mexcept\u001b[0m \u001b[1;33m(\u001b[0m\u001b[0mTypeError\u001b[0m\u001b[1;33m,\u001b[0m \u001b[0mValueError\u001b[0m\u001b[1;33m)\u001b[0m\u001b[1;33m:\u001b[0m\u001b[1;33m\u001b[0m\u001b[1;33m\u001b[0m\u001b[0m\n\u001b[0;32m   1084\u001b[0m         \u001b[1;31m# Note: convert_to_eager_tensor currently raises a ValueError, not a\u001b[0m\u001b[1;33m\u001b[0m\u001b[1;33m\u001b[0m\u001b[0m\n",
      "\u001b[1;32m~\\anaconda3\\lib\\site-packages\\tensorflow\\python\\ops\\array_ops.py\u001b[0m in \u001b[0;36midentity\u001b[1;34m(input, name)\u001b[0m\n\u001b[0;32m    285\u001b[0m     \u001b[1;31m# variables. Variables have correct handle data when graph building.\u001b[0m\u001b[1;33m\u001b[0m\u001b[1;33m\u001b[0m\u001b[0m\n\u001b[0;32m    286\u001b[0m     \u001b[0minput\u001b[0m \u001b[1;33m=\u001b[0m \u001b[0mops\u001b[0m\u001b[1;33m.\u001b[0m\u001b[0mconvert_to_tensor\u001b[0m\u001b[1;33m(\u001b[0m\u001b[0minput\u001b[0m\u001b[1;33m)\u001b[0m\u001b[1;33m\u001b[0m\u001b[1;33m\u001b[0m\u001b[0m\n\u001b[1;32m--> 287\u001b[1;33m   \u001b[0mret\u001b[0m \u001b[1;33m=\u001b[0m \u001b[0mgen_array_ops\u001b[0m\u001b[1;33m.\u001b[0m\u001b[0midentity\u001b[0m\u001b[1;33m(\u001b[0m\u001b[0minput\u001b[0m\u001b[1;33m,\u001b[0m \u001b[0mname\u001b[0m\u001b[1;33m=\u001b[0m\u001b[0mname\u001b[0m\u001b[1;33m)\u001b[0m\u001b[1;33m\u001b[0m\u001b[1;33m\u001b[0m\u001b[0m\n\u001b[0m\u001b[0;32m    288\u001b[0m   \u001b[1;31m# Propagate handle data for happier shape inference for resource variables.\u001b[0m\u001b[1;33m\u001b[0m\u001b[1;33m\u001b[0m\u001b[0m\n\u001b[0;32m    289\u001b[0m   \u001b[1;32mif\u001b[0m \u001b[0mhasattr\u001b[0m\u001b[1;33m(\u001b[0m\u001b[0minput\u001b[0m\u001b[1;33m,\u001b[0m \u001b[1;34m\"_handle_data\"\u001b[0m\u001b[1;33m)\u001b[0m\u001b[1;33m:\u001b[0m\u001b[1;33m\u001b[0m\u001b[1;33m\u001b[0m\u001b[0m\n",
      "\u001b[1;32m~\\anaconda3\\lib\\site-packages\\tensorflow\\python\\ops\\gen_array_ops.py\u001b[0m in \u001b[0;36midentity\u001b[1;34m(input, name)\u001b[0m\n\u001b[0;32m   4061\u001b[0m   \u001b[1;32mif\u001b[0m \u001b[0mtld\u001b[0m\u001b[1;33m.\u001b[0m\u001b[0mis_eager\u001b[0m\u001b[1;33m:\u001b[0m\u001b[1;33m\u001b[0m\u001b[1;33m\u001b[0m\u001b[0m\n\u001b[0;32m   4062\u001b[0m     \u001b[1;32mtry\u001b[0m\u001b[1;33m:\u001b[0m\u001b[1;33m\u001b[0m\u001b[1;33m\u001b[0m\u001b[0m\n\u001b[1;32m-> 4063\u001b[1;33m       _result = pywrap_tfe.TFE_Py_FastPathExecute(\n\u001b[0m\u001b[0;32m   4064\u001b[0m         _ctx, \"Identity\", name, input)\n\u001b[0;32m   4065\u001b[0m       \u001b[1;32mreturn\u001b[0m \u001b[0m_result\u001b[0m\u001b[1;33m\u001b[0m\u001b[1;33m\u001b[0m\u001b[0m\n",
      "\u001b[1;31mKeyboardInterrupt\u001b[0m: "
     ]
    }
   ],
   "source": [
    "model = keras.models.Sequential([\n",
    "    keras.layers.Dense(30, activation=\"tanh\", input_shape=X_train.shape[1:]),\n",
    "    keras.layers.Dense(1)\n",
    "])\n",
    "\n",
    "history2 = History()\n",
    "\n",
    "\n",
    "scaler = StandardScaler()\n",
    "scaler.fit(X_train)\n",
    "X_train_scaled = scaler.transform(X_train)\n",
    "X_test_scaled = scaler.transform(X_test)\n",
    "\n",
    "model.compile(loss=\"mean_squared_error\", optimizer=keras.optimizers.SGD(lr=1e-3))\n",
    "\n",
    "\n",
    "#history2 = model.fit(X_train_scaled, y_train, validation_data= (X_test_scaled, y_test), batch_size=32, epochs=20)"
   ]
  }
 ],
 "metadata": {
  "kernelspec": {
   "display_name": "Python 3 (ipykernel)",
   "language": "python",
   "name": "python3"
  },
  "language_info": {
   "codemirror_mode": {
    "name": "ipython",
    "version": 3
   },
   "file_extension": ".py",
   "mimetype": "text/x-python",
   "name": "python",
   "nbconvert_exporter": "python",
   "pygments_lexer": "ipython3",
   "version": "3.9.7"
  }
 },
 "nbformat": 4,
 "nbformat_minor": 5
}
