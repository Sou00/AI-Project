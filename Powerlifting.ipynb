{
  "cells": [
    {
      "cell_type": "code",
      "source": [
        "from joblib import dump, load\n",
        "\n"
      ],
      "metadata": {
        "id": "VFjd9MO1FPvB"
      },
      "id": "VFjd9MO1FPvB",
      "execution_count": null,
      "outputs": []
    },
    {
      "cell_type": "code",
      "execution_count": null,
      "id": "fdbcc348",
      "metadata": {
        "id": "fdbcc348"
      },
      "outputs": [],
      "source": [
        "import numpy as np \n",
        "import pandas as pd\n",
        "import math\n",
        "import matplotlib.pyplot as plt\n",
        "import seaborn as sns\n",
        "from category_encoders import TargetEncoder\n",
        "from sklearn.model_selection import train_test_split\n",
        "from sklearn.pipeline import Pipeline\n",
        "from sklearn.impute import SimpleImputer\n",
        "from sklearn.model_selection import KFold\n",
        "from sklearn.linear_model import LinearRegression\n",
        "from sklearn.svm import SVR\n",
        "from sklearn.preprocessing import StandardScaler\n",
        "from sklearn.model_selection import GridSearchCV, RandomizedSearchCV\n",
        "import tensorflow as tf\n",
        "from tensorflow import keras\n",
        "from keras.callbacks import History\n",
        "from sklearn import  metrics\n",
        "from xgboost import XGBRegressor\n",
        "from scipy.stats.distributions import uniform, randint"
      ]
    },
    {
      "cell_type": "code",
      "execution_count": null,
      "id": "37b1bc7d",
      "metadata": {
        "colab": {
          "base_uri": "https://localhost:8080/",
          "height": 386
        },
        "id": "37b1bc7d",
        "outputId": "fb10cea2-3c32-4c3e-af6e-4c7c4ec5a728"
      },
      "outputs": [
        {
          "output_type": "execute_result",
          "data": {
            "text/plain": [
              "              Name Sex Event Equipment   Age AgeClass Division  BodyweightKg  \\\n",
              "0     Abbie Murphy   F   SBD     Wraps  29.0    24-34     F-OR          59.8   \n",
              "1      Abbie Tuong   F   SBD     Wraps  29.0    24-34     F-OR          58.5   \n",
              "2   Ainslee Hooper   F     B       Raw  40.0    40-44     F-OR          55.4   \n",
              "3  Amy Moldenhauer   F   SBD     Wraps  23.0    20-23     F-OR          60.0   \n",
              "4     Andrea Rowan   F   SBD     Wraps  45.0    45-49     F-OR         104.0   \n",
              "\n",
              "  WeightClassKg  Squat1Kg  ...  McCulloch  Glossbrenner  IPFPoints  Tested  \\\n",
              "0            60      80.0  ...     324.16        286.42     511.15     NaN   \n",
              "1            60     100.0  ...     378.07        334.16     595.65     NaN   \n",
              "2            56       NaN  ...      38.56         34.12     313.97     NaN   \n",
              "3            60    -105.0  ...     345.61        305.37     547.04     NaN   \n",
              "4           110     120.0  ...     338.91        274.56     550.08     NaN   \n",
              "\n",
              "   Country  Federation        Date  MeetCountry  MeetState       MeetName  \n",
              "0      NaN     GPC-AUS  2018-10-27    Australia        VIC  Melbourne Cup  \n",
              "1      NaN     GPC-AUS  2018-10-27    Australia        VIC  Melbourne Cup  \n",
              "2      NaN     GPC-AUS  2018-10-27    Australia        VIC  Melbourne Cup  \n",
              "3      NaN     GPC-AUS  2018-10-27    Australia        VIC  Melbourne Cup  \n",
              "4      NaN     GPC-AUS  2018-10-27    Australia        VIC  Melbourne Cup  \n",
              "\n",
              "[5 rows x 37 columns]"
            ],
            "text/html": [
              "\n",
              "  <div id=\"df-486b958c-c7e4-40da-b92b-793ee2865725\">\n",
              "    <div class=\"colab-df-container\">\n",
              "      <div>\n",
              "<style scoped>\n",
              "    .dataframe tbody tr th:only-of-type {\n",
              "        vertical-align: middle;\n",
              "    }\n",
              "\n",
              "    .dataframe tbody tr th {\n",
              "        vertical-align: top;\n",
              "    }\n",
              "\n",
              "    .dataframe thead th {\n",
              "        text-align: right;\n",
              "    }\n",
              "</style>\n",
              "<table border=\"1\" class=\"dataframe\">\n",
              "  <thead>\n",
              "    <tr style=\"text-align: right;\">\n",
              "      <th></th>\n",
              "      <th>Name</th>\n",
              "      <th>Sex</th>\n",
              "      <th>Event</th>\n",
              "      <th>Equipment</th>\n",
              "      <th>Age</th>\n",
              "      <th>AgeClass</th>\n",
              "      <th>Division</th>\n",
              "      <th>BodyweightKg</th>\n",
              "      <th>WeightClassKg</th>\n",
              "      <th>Squat1Kg</th>\n",
              "      <th>...</th>\n",
              "      <th>McCulloch</th>\n",
              "      <th>Glossbrenner</th>\n",
              "      <th>IPFPoints</th>\n",
              "      <th>Tested</th>\n",
              "      <th>Country</th>\n",
              "      <th>Federation</th>\n",
              "      <th>Date</th>\n",
              "      <th>MeetCountry</th>\n",
              "      <th>MeetState</th>\n",
              "      <th>MeetName</th>\n",
              "    </tr>\n",
              "  </thead>\n",
              "  <tbody>\n",
              "    <tr>\n",
              "      <th>0</th>\n",
              "      <td>Abbie Murphy</td>\n",
              "      <td>F</td>\n",
              "      <td>SBD</td>\n",
              "      <td>Wraps</td>\n",
              "      <td>29.0</td>\n",
              "      <td>24-34</td>\n",
              "      <td>F-OR</td>\n",
              "      <td>59.8</td>\n",
              "      <td>60</td>\n",
              "      <td>80.0</td>\n",
              "      <td>...</td>\n",
              "      <td>324.16</td>\n",
              "      <td>286.42</td>\n",
              "      <td>511.15</td>\n",
              "      <td>NaN</td>\n",
              "      <td>NaN</td>\n",
              "      <td>GPC-AUS</td>\n",
              "      <td>2018-10-27</td>\n",
              "      <td>Australia</td>\n",
              "      <td>VIC</td>\n",
              "      <td>Melbourne Cup</td>\n",
              "    </tr>\n",
              "    <tr>\n",
              "      <th>1</th>\n",
              "      <td>Abbie Tuong</td>\n",
              "      <td>F</td>\n",
              "      <td>SBD</td>\n",
              "      <td>Wraps</td>\n",
              "      <td>29.0</td>\n",
              "      <td>24-34</td>\n",
              "      <td>F-OR</td>\n",
              "      <td>58.5</td>\n",
              "      <td>60</td>\n",
              "      <td>100.0</td>\n",
              "      <td>...</td>\n",
              "      <td>378.07</td>\n",
              "      <td>334.16</td>\n",
              "      <td>595.65</td>\n",
              "      <td>NaN</td>\n",
              "      <td>NaN</td>\n",
              "      <td>GPC-AUS</td>\n",
              "      <td>2018-10-27</td>\n",
              "      <td>Australia</td>\n",
              "      <td>VIC</td>\n",
              "      <td>Melbourne Cup</td>\n",
              "    </tr>\n",
              "    <tr>\n",
              "      <th>2</th>\n",
              "      <td>Ainslee Hooper</td>\n",
              "      <td>F</td>\n",
              "      <td>B</td>\n",
              "      <td>Raw</td>\n",
              "      <td>40.0</td>\n",
              "      <td>40-44</td>\n",
              "      <td>F-OR</td>\n",
              "      <td>55.4</td>\n",
              "      <td>56</td>\n",
              "      <td>NaN</td>\n",
              "      <td>...</td>\n",
              "      <td>38.56</td>\n",
              "      <td>34.12</td>\n",
              "      <td>313.97</td>\n",
              "      <td>NaN</td>\n",
              "      <td>NaN</td>\n",
              "      <td>GPC-AUS</td>\n",
              "      <td>2018-10-27</td>\n",
              "      <td>Australia</td>\n",
              "      <td>VIC</td>\n",
              "      <td>Melbourne Cup</td>\n",
              "    </tr>\n",
              "    <tr>\n",
              "      <th>3</th>\n",
              "      <td>Amy Moldenhauer</td>\n",
              "      <td>F</td>\n",
              "      <td>SBD</td>\n",
              "      <td>Wraps</td>\n",
              "      <td>23.0</td>\n",
              "      <td>20-23</td>\n",
              "      <td>F-OR</td>\n",
              "      <td>60.0</td>\n",
              "      <td>60</td>\n",
              "      <td>-105.0</td>\n",
              "      <td>...</td>\n",
              "      <td>345.61</td>\n",
              "      <td>305.37</td>\n",
              "      <td>547.04</td>\n",
              "      <td>NaN</td>\n",
              "      <td>NaN</td>\n",
              "      <td>GPC-AUS</td>\n",
              "      <td>2018-10-27</td>\n",
              "      <td>Australia</td>\n",
              "      <td>VIC</td>\n",
              "      <td>Melbourne Cup</td>\n",
              "    </tr>\n",
              "    <tr>\n",
              "      <th>4</th>\n",
              "      <td>Andrea Rowan</td>\n",
              "      <td>F</td>\n",
              "      <td>SBD</td>\n",
              "      <td>Wraps</td>\n",
              "      <td>45.0</td>\n",
              "      <td>45-49</td>\n",
              "      <td>F-OR</td>\n",
              "      <td>104.0</td>\n",
              "      <td>110</td>\n",
              "      <td>120.0</td>\n",
              "      <td>...</td>\n",
              "      <td>338.91</td>\n",
              "      <td>274.56</td>\n",
              "      <td>550.08</td>\n",
              "      <td>NaN</td>\n",
              "      <td>NaN</td>\n",
              "      <td>GPC-AUS</td>\n",
              "      <td>2018-10-27</td>\n",
              "      <td>Australia</td>\n",
              "      <td>VIC</td>\n",
              "      <td>Melbourne Cup</td>\n",
              "    </tr>\n",
              "  </tbody>\n",
              "</table>\n",
              "<p>5 rows × 37 columns</p>\n",
              "</div>\n",
              "      <button class=\"colab-df-convert\" onclick=\"convertToInteractive('df-486b958c-c7e4-40da-b92b-793ee2865725')\"\n",
              "              title=\"Convert this dataframe to an interactive table.\"\n",
              "              style=\"display:none;\">\n",
              "        \n",
              "  <svg xmlns=\"http://www.w3.org/2000/svg\" height=\"24px\"viewBox=\"0 0 24 24\"\n",
              "       width=\"24px\">\n",
              "    <path d=\"M0 0h24v24H0V0z\" fill=\"none\"/>\n",
              "    <path d=\"M18.56 5.44l.94 2.06.94-2.06 2.06-.94-2.06-.94-.94-2.06-.94 2.06-2.06.94zm-11 1L8.5 8.5l.94-2.06 2.06-.94-2.06-.94L8.5 2.5l-.94 2.06-2.06.94zm10 10l.94 2.06.94-2.06 2.06-.94-2.06-.94-.94-2.06-.94 2.06-2.06.94z\"/><path d=\"M17.41 7.96l-1.37-1.37c-.4-.4-.92-.59-1.43-.59-.52 0-1.04.2-1.43.59L10.3 9.45l-7.72 7.72c-.78.78-.78 2.05 0 2.83L4 21.41c.39.39.9.59 1.41.59.51 0 1.02-.2 1.41-.59l7.78-7.78 2.81-2.81c.8-.78.8-2.07 0-2.86zM5.41 20L4 18.59l7.72-7.72 1.47 1.35L5.41 20z\"/>\n",
              "  </svg>\n",
              "      </button>\n",
              "      \n",
              "  <style>\n",
              "    .colab-df-container {\n",
              "      display:flex;\n",
              "      flex-wrap:wrap;\n",
              "      gap: 12px;\n",
              "    }\n",
              "\n",
              "    .colab-df-convert {\n",
              "      background-color: #E8F0FE;\n",
              "      border: none;\n",
              "      border-radius: 50%;\n",
              "      cursor: pointer;\n",
              "      display: none;\n",
              "      fill: #1967D2;\n",
              "      height: 32px;\n",
              "      padding: 0 0 0 0;\n",
              "      width: 32px;\n",
              "    }\n",
              "\n",
              "    .colab-df-convert:hover {\n",
              "      background-color: #E2EBFA;\n",
              "      box-shadow: 0px 1px 2px rgba(60, 64, 67, 0.3), 0px 1px 3px 1px rgba(60, 64, 67, 0.15);\n",
              "      fill: #174EA6;\n",
              "    }\n",
              "\n",
              "    [theme=dark] .colab-df-convert {\n",
              "      background-color: #3B4455;\n",
              "      fill: #D2E3FC;\n",
              "    }\n",
              "\n",
              "    [theme=dark] .colab-df-convert:hover {\n",
              "      background-color: #434B5C;\n",
              "      box-shadow: 0px 1px 3px 1px rgba(0, 0, 0, 0.15);\n",
              "      filter: drop-shadow(0px 1px 2px rgba(0, 0, 0, 0.3));\n",
              "      fill: #FFFFFF;\n",
              "    }\n",
              "  </style>\n",
              "\n",
              "      <script>\n",
              "        const buttonEl =\n",
              "          document.querySelector('#df-486b958c-c7e4-40da-b92b-793ee2865725 button.colab-df-convert');\n",
              "        buttonEl.style.display =\n",
              "          google.colab.kernel.accessAllowed ? 'block' : 'none';\n",
              "\n",
              "        async function convertToInteractive(key) {\n",
              "          const element = document.querySelector('#df-486b958c-c7e4-40da-b92b-793ee2865725');\n",
              "          const dataTable =\n",
              "            await google.colab.kernel.invokeFunction('convertToInteractive',\n",
              "                                                     [key], {});\n",
              "          if (!dataTable) return;\n",
              "\n",
              "          const docLinkHtml = 'Like what you see? Visit the ' +\n",
              "            '<a target=\"_blank\" href=https://colab.research.google.com/notebooks/data_table.ipynb>data table notebook</a>'\n",
              "            + ' to learn more about interactive tables.';\n",
              "          element.innerHTML = '';\n",
              "          dataTable['output_type'] = 'display_data';\n",
              "          await google.colab.output.renderOutput(dataTable, element);\n",
              "          const docLink = document.createElement('div');\n",
              "          docLink.innerHTML = docLinkHtml;\n",
              "          element.appendChild(docLink);\n",
              "        }\n",
              "      </script>\n",
              "    </div>\n",
              "  </div>\n",
              "  "
            ]
          },
          "metadata": {},
          "execution_count": 106
        }
      ],
      "source": [
        "fname = \"./openpowerlifting.csv\"\n",
        "df = pd.read_csv(fname, parse_dates=True,low_memory=False)\n",
        "df.head()"
      ]
    },
    {
      "cell_type": "code",
      "execution_count": null,
      "id": "ba278100",
      "metadata": {
        "colab": {
          "base_uri": "https://localhost:8080/"
        },
        "id": "ba278100",
        "outputId": "3488a108-03eb-4536-f444-613025066dac"
      },
      "outputs": [
        {
          "output_type": "execute_result",
          "data": {
            "text/plain": [
              "(1423354, 37)"
            ]
          },
          "metadata": {},
          "execution_count": 107
        }
      ],
      "source": [
        "df.shape"
      ]
    },
    {
      "cell_type": "code",
      "execution_count": null,
      "id": "efba8af2",
      "metadata": {
        "colab": {
          "base_uri": "https://localhost:8080/"
        },
        "id": "efba8af2",
        "outputId": "725d6d9a-1905-4d37-a340-b47232a10c82"
      },
      "outputs": [
        {
          "output_type": "stream",
          "name": "stdout",
          "text": [
            "<class 'pandas.core.frame.DataFrame'>\n",
            "RangeIndex: 16728 entries, 0 to 16727\n",
            "Data columns (total 37 columns):\n",
            " #   Column           Non-Null Count  Dtype  \n",
            "---  ------           --------------  -----  \n",
            " 0   Name             16728 non-null  object \n",
            " 1   Sex              16728 non-null  object \n",
            " 2   Event            16728 non-null  object \n",
            " 3   Equipment        16728 non-null  object \n",
            " 4   Age              16473 non-null  float64\n",
            " 5   AgeClass         16474 non-null  object \n",
            " 6   Division         16728 non-null  object \n",
            " 7   BodyweightKg     16705 non-null  float64\n",
            " 8   WeightClassKg    16697 non-null  object \n",
            " 9   Squat1Kg         11311 non-null  float64\n",
            " 10  Squat2Kg         11137 non-null  float64\n",
            " 11  Squat3Kg         10665 non-null  float64\n",
            " 12  Squat4Kg         82 non-null     float64\n",
            " 13  Best3SquatKg     11529 non-null  float64\n",
            " 14  Bench1Kg         14908 non-null  float64\n",
            " 15  Bench2Kg         14728 non-null  float64\n",
            " 16  Bench3Kg         14101 non-null  float64\n",
            " 17  Bench4Kg         142 non-null    float64\n",
            " 18  Best3BenchKg     15483 non-null  float64\n",
            " 19  Deadlift1Kg      12818 non-null  float64\n",
            " 20  Deadlift2Kg      12557 non-null  float64\n",
            " 21  Deadlift3Kg      11921 non-null  float64\n",
            " 22  Deadlift4Kg      243 non-null    float64\n",
            " 23  Best3DeadliftKg  13407 non-null  float64\n",
            " 24  TotalKg          16161 non-null  float64\n",
            " 25  Place            16728 non-null  object \n",
            " 26  Wilks            16138 non-null  float64\n",
            " 27  McCulloch        16138 non-null  float64\n",
            " 28  Glossbrenner     16138 non-null  float64\n",
            " 29  IPFPoints        15081 non-null  float64\n",
            " 30  Tested           8563 non-null   object \n",
            " 31  Country          6197 non-null   object \n",
            " 32  Federation       16727 non-null  object \n",
            " 33  Date             16727 non-null  object \n",
            " 34  MeetCountry      16727 non-null  object \n",
            " 35  MeetState        12374 non-null  object \n",
            " 36  MeetName         16727 non-null  object \n",
            "dtypes: float64(22), object(15)\n",
            "memory usage: 4.7+ MB\n"
          ]
        }
      ],
      "source": [
        "df.info()"
      ]
    },
    {
      "cell_type": "code",
      "execution_count": null,
      "id": "608fea99",
      "metadata": {
        "colab": {
          "base_uri": "https://localhost:8080/"
        },
        "id": "608fea99",
        "outputId": "ec189ee5-5f92-41ea-addd-9a8afcb42e03"
      },
      "outputs": [
        {
          "output_type": "stream",
          "name": "stdout",
          "text": [
            "Squat4Kg: 99.51%\n",
            "Bench4Kg: 99.15%\n",
            "Deadlift4Kg: 98.55%\n",
            "Country: 62.95%\n",
            "Tested: 48.81%\n",
            "Squat3Kg: 36.24%\n",
            "Squat2Kg: 33.42%\n",
            "Squat1Kg: 32.38%\n",
            "Best3SquatKg: 31.08%\n",
            "Deadlift3Kg: 28.74%\n",
            "MeetState: 26.03%\n",
            "Deadlift2Kg: 24.93%\n",
            "Deadlift1Kg: 23.37%\n",
            "Best3DeadliftKg: 19.85%\n",
            "Bench3Kg: 15.7%\n",
            "Bench2Kg: 11.96%\n",
            "Bench1Kg: 10.88%\n",
            "IPFPoints: 9.85%\n",
            "Best3BenchKg: 7.44%\n",
            "Wilks: 3.53%\n",
            "McCulloch: 3.53%\n",
            "Glossbrenner: 3.53%\n",
            "TotalKg: 3.39%\n",
            "Age: 1.52%\n",
            "AgeClass: 1.52%\n",
            "WeightClassKg: 0.19%\n",
            "BodyweightKg: 0.14%\n",
            "Federation: 0.01%\n",
            "Date: 0.01%\n",
            "MeetCountry: 0.01%\n",
            "MeetName: 0.01%\n",
            "Name: 0.0%\n",
            "Sex: 0.0%\n",
            "Event: 0.0%\n",
            "Equipment: 0.0%\n",
            "Division: 0.0%\n",
            "Place: 0.0%\n"
          ]
        }
      ],
      "source": [
        "#sprawdzamy ile % danego feature brakuje\n",
        "\n",
        "lst = []\n",
        "for cname in df.columns.tolist():\n",
        "    percentage = round((100*df[cname].isna().sum()/df[cname].isna().count()), 2)\n",
        "    lst.append((cname, percentage))\n",
        "\n",
        "lst.sort(reverse=True, key = lambda x: x[1])\n",
        "\n",
        "for element in lst:\n",
        "    print(element[0] + \": \" + str(element[1]) + \"%\")"
      ]
    },
    {
      "cell_type": "code",
      "execution_count": null,
      "id": "718d25d5",
      "metadata": {
        "id": "718d25d5"
      },
      "outputs": [],
      "source": [
        "#pozbywamy sie wyników które chcemy przewidywać a także wszystkich innych featurów z których można wyliczyć squata\n",
        "df = df.drop([\"Squat1Kg\", \"Squat2Kg\", \"Squat3Kg\", \"TotalKg\", \"Place\"], axis=1)\n",
        "df = df.drop([\"Wilks\", \"Glossbrenner\", \"IPFPoints\", \"McCulloch\"], axis=1)\n",
        "#usuwamy xxx4Kg bo występuje niezwykle rzadko \n",
        "#(jest to dodatkowe podejście przyznawane za jakiś błąd ze strony obsługi lub sędziów np. zawodnik miał założony zły ciężar)\n",
        "df = df.drop([\"Squat4Kg\", \"Deadlift4Kg\", \"Bench4Kg\"], axis=1)\n",
        "#ta sama informacja co Age i BodyWeightKg\n",
        "df = df.drop([\"AgeClass\", \"WeightClassKg\"], axis=1)\n"
      ]
    },
    {
      "cell_type": "code",
      "execution_count": null,
      "id": "9b1d7780",
      "metadata": {
        "colab": {
          "base_uri": "https://localhost:8080/"
        },
        "id": "9b1d7780",
        "outputId": "acab614a-6b23-4e0e-a181-434f470463f0"
      },
      "outputs": [
        {
          "output_type": "execute_result",
          "data": {
            "text/plain": [
              "Name               False\n",
              "Sex                False\n",
              "Event              False\n",
              "Equipment          False\n",
              "Age                 True\n",
              "Division           False\n",
              "BodyweightKg        True\n",
              "Best3SquatKg        True\n",
              "Bench1Kg            True\n",
              "Bench2Kg            True\n",
              "Bench3Kg            True\n",
              "Best3BenchKg        True\n",
              "Deadlift1Kg         True\n",
              "Deadlift2Kg         True\n",
              "Deadlift3Kg         True\n",
              "Best3DeadliftKg     True\n",
              "Tested              True\n",
              "Country             True\n",
              "Federation          True\n",
              "Date                True\n",
              "MeetCountry         True\n",
              "MeetState           True\n",
              "MeetName            True\n",
              "dtype: bool"
            ]
          },
          "metadata": {},
          "execution_count": 11
        }
      ],
      "source": [
        "df.isna().any()"
      ]
    },
    {
      "cell_type": "code",
      "execution_count": null,
      "id": "09cdc0ec",
      "metadata": {
        "colab": {
          "base_uri": "https://localhost:8080/"
        },
        "id": "09cdc0ec",
        "outputId": "3706ac10-7467-4df5-f1ce-5177583f88cb"
      },
      "outputs": [
        {
          "output_type": "stream",
          "name": "stdout",
          "text": [
            "SBD    1073237\n",
            "B       257179\n",
            "D        56717\n",
            "BD       27598\n",
            "S         4900\n",
            "SB        2371\n",
            "SD        1352\n",
            "Name: Event, dtype: int64\n",
            "Alan Aerts        214\n",
            "Jose Hernandez    204\n",
            "Sverre Paulsen    191\n",
            "Erik Rasmussen    186\n",
            "Bonnie Aerts      165\n",
            "                 ... \n",
            "Matthew Rich        1\n",
            "Matthew Russel      1\n",
            "Gavin Chan          1\n",
            "Quinn Troy          1\n",
            "Jan Sowa            1\n",
            "Name: Name, Length: 412574, dtype: int64\n"
          ]
        }
      ],
      "source": [
        "print(df[\"Event\"].value_counts())\n",
        "df = df.drop([\"Event\",\"MeetName\"], axis=1)\n",
        "# możemy usunąc nazwę zawodów i event bo nie chcemy żeby wpływały na predykcję\n",
        "print(df[\"Name\"].value_counts())\n",
        "df = df.drop(\"Name\", axis=1)\n",
        "#usuniemy też imiona zawodników pomimo tego, że będzie to sprzyjać zbliżeniu predykcji \n",
        "#do wyników zawodników, którzy startowali wiele razy (przy tak dużej ilości zawodników nie powinno to stworzyć dużej różnicy)"
      ]
    },
    {
      "cell_type": "code",
      "execution_count": null,
      "id": "83c4f975",
      "metadata": {
        "id": "83c4f975"
      },
      "outputs": [],
      "source": [
        "# teraz pozbędziemy się wszystkich danych gdzie kluczowe feature są NaN \n",
        "# średnia byłaby tutaj słabym rozwiązaniem bo istnieje dużo zawodników startujących tylko dla jednego boju (szczególnie bench)\n",
        "# i przynawanie im średniej byłoby dużym zawyżeniem ich prawdziwych wyników\n",
        "columns = [\"BodyweightKg\", \"Age\", \"Best3DeadliftKg\", \"Best3SquatKg\", \"Best3BenchKg\"]\n",
        "\n",
        "for col in columns:\n",
        "    df = df.loc[(df[col].isna() == False) & (df[col] > 0)]"
      ]
    },
    {
      "cell_type": "code",
      "execution_count": null,
      "id": "7cf8bdf3",
      "metadata": {
        "colab": {
          "base_uri": "https://localhost:8080/",
          "height": 721
        },
        "id": "7cf8bdf3",
        "outputId": "ad84444c-4fa3-4291-a4db-2444089e8ef5"
      },
      "outputs": [
        {
          "output_type": "stream",
          "name": "stdout",
          "text": [
            "Sex                False\n",
            "Equipment          False\n",
            "Age                False\n",
            "Division            True\n",
            "BodyweightKg       False\n",
            "Best3SquatKg       False\n",
            "Bench1Kg            True\n",
            "Bench2Kg            True\n",
            "Bench3Kg            True\n",
            "Best3BenchKg       False\n",
            "Deadlift1Kg         True\n",
            "Deadlift2Kg         True\n",
            "Deadlift3Kg         True\n",
            "Best3DeadliftKg    False\n",
            "Tested              True\n",
            "Country             True\n",
            "Federation         False\n",
            "Date               False\n",
            "MeetCountry        False\n",
            "MeetState           True\n",
            "dtype: bool\n"
          ]
        },
        {
          "output_type": "execute_result",
          "data": {
            "text/plain": [
              "  Sex Equipment   Age Division  BodyweightKg  Best3SquatKg Bench1Kg Bench2Kg  \\\n",
              "0   F     Wraps  29.0     F-OR          59.8         105.0  Success  Success   \n",
              "1   F     Wraps  29.0     F-OR          58.5         120.0  Success  Success   \n",
              "3   F     Wraps  23.0     F-OR          60.0         105.0  Success  Success   \n",
              "4   F     Wraps  45.0     F-OR         104.0         140.0  Success  Success   \n",
              "5   F     Wraps  37.0     F-OR          74.0         142.5  Success  Success   \n",
              "\n",
              "  Bench3Kg  Best3BenchKg Deadlift1Kg Deadlift2Kg Deadlift3Kg  Best3DeadliftKg  \\\n",
              "0  Success          55.0     Success     Success     Success            130.0   \n",
              "1  Success          67.5     Success     Success     Success            145.0   \n",
              "3     Fail          72.5     Success        Fail        Fail            132.5   \n",
              "4  Success          80.0     Success     Success     Success            170.0   \n",
              "5  Success          82.5     Success     Success     Success            145.0   \n",
              "\n",
              "  Tested Country Federation        Date MeetCountry MeetState  \n",
              "0    NaN     NaN    GPC-AUS  2018-10-27   Australia       VIC  \n",
              "1    NaN     NaN    GPC-AUS  2018-10-27   Australia       VIC  \n",
              "3    NaN     NaN    GPC-AUS  2018-10-27   Australia       VIC  \n",
              "4    NaN     NaN    GPC-AUS  2018-10-27   Australia       VIC  \n",
              "5    NaN     NaN    GPC-AUS  2018-10-27   Australia       VIC  "
            ],
            "text/html": [
              "\n",
              "  <div id=\"df-b7c3eed7-6096-4cc9-bc81-9f3cb2702c28\">\n",
              "    <div class=\"colab-df-container\">\n",
              "      <div>\n",
              "<style scoped>\n",
              "    .dataframe tbody tr th:only-of-type {\n",
              "        vertical-align: middle;\n",
              "    }\n",
              "\n",
              "    .dataframe tbody tr th {\n",
              "        vertical-align: top;\n",
              "    }\n",
              "\n",
              "    .dataframe thead th {\n",
              "        text-align: right;\n",
              "    }\n",
              "</style>\n",
              "<table border=\"1\" class=\"dataframe\">\n",
              "  <thead>\n",
              "    <tr style=\"text-align: right;\">\n",
              "      <th></th>\n",
              "      <th>Sex</th>\n",
              "      <th>Equipment</th>\n",
              "      <th>Age</th>\n",
              "      <th>Division</th>\n",
              "      <th>BodyweightKg</th>\n",
              "      <th>Best3SquatKg</th>\n",
              "      <th>Bench1Kg</th>\n",
              "      <th>Bench2Kg</th>\n",
              "      <th>Bench3Kg</th>\n",
              "      <th>Best3BenchKg</th>\n",
              "      <th>Deadlift1Kg</th>\n",
              "      <th>Deadlift2Kg</th>\n",
              "      <th>Deadlift3Kg</th>\n",
              "      <th>Best3DeadliftKg</th>\n",
              "      <th>Tested</th>\n",
              "      <th>Country</th>\n",
              "      <th>Federation</th>\n",
              "      <th>Date</th>\n",
              "      <th>MeetCountry</th>\n",
              "      <th>MeetState</th>\n",
              "    </tr>\n",
              "  </thead>\n",
              "  <tbody>\n",
              "    <tr>\n",
              "      <th>0</th>\n",
              "      <td>F</td>\n",
              "      <td>Wraps</td>\n",
              "      <td>29.0</td>\n",
              "      <td>F-OR</td>\n",
              "      <td>59.8</td>\n",
              "      <td>105.0</td>\n",
              "      <td>Success</td>\n",
              "      <td>Success</td>\n",
              "      <td>Success</td>\n",
              "      <td>55.0</td>\n",
              "      <td>Success</td>\n",
              "      <td>Success</td>\n",
              "      <td>Success</td>\n",
              "      <td>130.0</td>\n",
              "      <td>NaN</td>\n",
              "      <td>NaN</td>\n",
              "      <td>GPC-AUS</td>\n",
              "      <td>2018-10-27</td>\n",
              "      <td>Australia</td>\n",
              "      <td>VIC</td>\n",
              "    </tr>\n",
              "    <tr>\n",
              "      <th>1</th>\n",
              "      <td>F</td>\n",
              "      <td>Wraps</td>\n",
              "      <td>29.0</td>\n",
              "      <td>F-OR</td>\n",
              "      <td>58.5</td>\n",
              "      <td>120.0</td>\n",
              "      <td>Success</td>\n",
              "      <td>Success</td>\n",
              "      <td>Success</td>\n",
              "      <td>67.5</td>\n",
              "      <td>Success</td>\n",
              "      <td>Success</td>\n",
              "      <td>Success</td>\n",
              "      <td>145.0</td>\n",
              "      <td>NaN</td>\n",
              "      <td>NaN</td>\n",
              "      <td>GPC-AUS</td>\n",
              "      <td>2018-10-27</td>\n",
              "      <td>Australia</td>\n",
              "      <td>VIC</td>\n",
              "    </tr>\n",
              "    <tr>\n",
              "      <th>3</th>\n",
              "      <td>F</td>\n",
              "      <td>Wraps</td>\n",
              "      <td>23.0</td>\n",
              "      <td>F-OR</td>\n",
              "      <td>60.0</td>\n",
              "      <td>105.0</td>\n",
              "      <td>Success</td>\n",
              "      <td>Success</td>\n",
              "      <td>Fail</td>\n",
              "      <td>72.5</td>\n",
              "      <td>Success</td>\n",
              "      <td>Fail</td>\n",
              "      <td>Fail</td>\n",
              "      <td>132.5</td>\n",
              "      <td>NaN</td>\n",
              "      <td>NaN</td>\n",
              "      <td>GPC-AUS</td>\n",
              "      <td>2018-10-27</td>\n",
              "      <td>Australia</td>\n",
              "      <td>VIC</td>\n",
              "    </tr>\n",
              "    <tr>\n",
              "      <th>4</th>\n",
              "      <td>F</td>\n",
              "      <td>Wraps</td>\n",
              "      <td>45.0</td>\n",
              "      <td>F-OR</td>\n",
              "      <td>104.0</td>\n",
              "      <td>140.0</td>\n",
              "      <td>Success</td>\n",
              "      <td>Success</td>\n",
              "      <td>Success</td>\n",
              "      <td>80.0</td>\n",
              "      <td>Success</td>\n",
              "      <td>Success</td>\n",
              "      <td>Success</td>\n",
              "      <td>170.0</td>\n",
              "      <td>NaN</td>\n",
              "      <td>NaN</td>\n",
              "      <td>GPC-AUS</td>\n",
              "      <td>2018-10-27</td>\n",
              "      <td>Australia</td>\n",
              "      <td>VIC</td>\n",
              "    </tr>\n",
              "    <tr>\n",
              "      <th>5</th>\n",
              "      <td>F</td>\n",
              "      <td>Wraps</td>\n",
              "      <td>37.0</td>\n",
              "      <td>F-OR</td>\n",
              "      <td>74.0</td>\n",
              "      <td>142.5</td>\n",
              "      <td>Success</td>\n",
              "      <td>Success</td>\n",
              "      <td>Success</td>\n",
              "      <td>82.5</td>\n",
              "      <td>Success</td>\n",
              "      <td>Success</td>\n",
              "      <td>Success</td>\n",
              "      <td>145.0</td>\n",
              "      <td>NaN</td>\n",
              "      <td>NaN</td>\n",
              "      <td>GPC-AUS</td>\n",
              "      <td>2018-10-27</td>\n",
              "      <td>Australia</td>\n",
              "      <td>VIC</td>\n",
              "    </tr>\n",
              "  </tbody>\n",
              "</table>\n",
              "</div>\n",
              "      <button class=\"colab-df-convert\" onclick=\"convertToInteractive('df-b7c3eed7-6096-4cc9-bc81-9f3cb2702c28')\"\n",
              "              title=\"Convert this dataframe to an interactive table.\"\n",
              "              style=\"display:none;\">\n",
              "        \n",
              "  <svg xmlns=\"http://www.w3.org/2000/svg\" height=\"24px\"viewBox=\"0 0 24 24\"\n",
              "       width=\"24px\">\n",
              "    <path d=\"M0 0h24v24H0V0z\" fill=\"none\"/>\n",
              "    <path d=\"M18.56 5.44l.94 2.06.94-2.06 2.06-.94-2.06-.94-.94-2.06-.94 2.06-2.06.94zm-11 1L8.5 8.5l.94-2.06 2.06-.94-2.06-.94L8.5 2.5l-.94 2.06-2.06.94zm10 10l.94 2.06.94-2.06 2.06-.94-2.06-.94-.94-2.06-.94 2.06-2.06.94z\"/><path d=\"M17.41 7.96l-1.37-1.37c-.4-.4-.92-.59-1.43-.59-.52 0-1.04.2-1.43.59L10.3 9.45l-7.72 7.72c-.78.78-.78 2.05 0 2.83L4 21.41c.39.39.9.59 1.41.59.51 0 1.02-.2 1.41-.59l7.78-7.78 2.81-2.81c.8-.78.8-2.07 0-2.86zM5.41 20L4 18.59l7.72-7.72 1.47 1.35L5.41 20z\"/>\n",
              "  </svg>\n",
              "      </button>\n",
              "      \n",
              "  <style>\n",
              "    .colab-df-container {\n",
              "      display:flex;\n",
              "      flex-wrap:wrap;\n",
              "      gap: 12px;\n",
              "    }\n",
              "\n",
              "    .colab-df-convert {\n",
              "      background-color: #E8F0FE;\n",
              "      border: none;\n",
              "      border-radius: 50%;\n",
              "      cursor: pointer;\n",
              "      display: none;\n",
              "      fill: #1967D2;\n",
              "      height: 32px;\n",
              "      padding: 0 0 0 0;\n",
              "      width: 32px;\n",
              "    }\n",
              "\n",
              "    .colab-df-convert:hover {\n",
              "      background-color: #E2EBFA;\n",
              "      box-shadow: 0px 1px 2px rgba(60, 64, 67, 0.3), 0px 1px 3px 1px rgba(60, 64, 67, 0.15);\n",
              "      fill: #174EA6;\n",
              "    }\n",
              "\n",
              "    [theme=dark] .colab-df-convert {\n",
              "      background-color: #3B4455;\n",
              "      fill: #D2E3FC;\n",
              "    }\n",
              "\n",
              "    [theme=dark] .colab-df-convert:hover {\n",
              "      background-color: #434B5C;\n",
              "      box-shadow: 0px 1px 3px 1px rgba(0, 0, 0, 0.15);\n",
              "      filter: drop-shadow(0px 1px 2px rgba(0, 0, 0, 0.3));\n",
              "      fill: #FFFFFF;\n",
              "    }\n",
              "  </style>\n",
              "\n",
              "      <script>\n",
              "        const buttonEl =\n",
              "          document.querySelector('#df-b7c3eed7-6096-4cc9-bc81-9f3cb2702c28 button.colab-df-convert');\n",
              "        buttonEl.style.display =\n",
              "          google.colab.kernel.accessAllowed ? 'block' : 'none';\n",
              "\n",
              "        async function convertToInteractive(key) {\n",
              "          const element = document.querySelector('#df-b7c3eed7-6096-4cc9-bc81-9f3cb2702c28');\n",
              "          const dataTable =\n",
              "            await google.colab.kernel.invokeFunction('convertToInteractive',\n",
              "                                                     [key], {});\n",
              "          if (!dataTable) return;\n",
              "\n",
              "          const docLinkHtml = 'Like what you see? Visit the ' +\n",
              "            '<a target=\"_blank\" href=https://colab.research.google.com/notebooks/data_table.ipynb>data table notebook</a>'\n",
              "            + ' to learn more about interactive tables.';\n",
              "          element.innerHTML = '';\n",
              "          dataTable['output_type'] = 'display_data';\n",
              "          await google.colab.output.renderOutput(dataTable, element);\n",
              "          const docLink = document.createElement('div');\n",
              "          docLink.innerHTML = docLinkHtml;\n",
              "          element.appendChild(docLink);\n",
              "        }\n",
              "      </script>\n",
              "    </div>\n",
              "  </div>\n",
              "  "
            ]
          },
          "metadata": {},
          "execution_count": 111
        }
      ],
      "source": [
        "print(df.isna().any())\n",
        "# pozostałe NaN w 1,2,3Kg wynikają z niewykorzystanych podejść zawodników zastąpimy je danymi kategorycznymi\n",
        "# jak łatwo się domyślić nie potrzeba tam dokładnych wyników bo ta sama informacja jest już w Best3Kg\n",
        "# wystarczy nam informacja o ilości zaliczonych,spalonych i niewykorzystanych podejść\n",
        "attemptCols = [\"Deadlift1Kg\", \"Deadlift2Kg\", \"Deadlift3Kg\", \"Bench1Kg\", \"Bench2Kg\", \"Bench3Kg\"]\n",
        "\n",
        "\n",
        "def attemptTransformer(datapoint):\n",
        "    if math.isnan(datapoint):\n",
        "        return \"Unknown\"\n",
        "    elif datapoint <= 0:\n",
        "        return \"Fail\"\n",
        "    else:\n",
        "        return \"Success\"\n",
        "    \n",
        "for col in attemptCols:\n",
        "    df[col] = df[col].apply(lambda x: attemptTransformer(x))\n",
        "df.head()"
      ]
    },
    {
      "cell_type": "code",
      "execution_count": null,
      "id": "bdcde14d",
      "metadata": {
        "colab": {
          "base_uri": "https://localhost:8080/"
        },
        "id": "bdcde14d",
        "outputId": "99b0eb60-9ce3-467b-a190-2e7dfd2a78f9"
      },
      "outputs": [
        {
          "output_type": "stream",
          "name": "stdout",
          "text": [
            "0          NaN\n",
            "1          NaN\n",
            "3          NaN\n",
            "4          NaN\n",
            "5          NaN\n",
            "          ... \n",
            "1423347    Yes\n",
            "1423348    Yes\n",
            "1423349    Yes\n",
            "1423350    Yes\n",
            "1423351    Yes\n",
            "Name: Tested, Length: 468843, dtype: object\n"
          ]
        }
      ],
      "source": [
        "#Zostaje nam division, tested, country i MeetState\n",
        "print(df[\"Tested\"])\n",
        "#w tested wystarczy zamienić NaN na informacje o tym że osoba nie była testowana np \"No\"\n",
        "df[\"Tested\"] = df[\"Tested\"].fillna(\"No\")\n",
        "\n",
        "# w pozostałych przypadkach po prostu zamienimy je na missing value\n",
        "from sklearn.impute import SimpleImputer\n",
        "\n",
        "simpImputeCols = [\"Country\", \"MeetState\", \"Division\"]\n",
        "\n",
        "simpImputer = SimpleImputer(strategy=\"constant\")\n",
        "df[simpImputeCols] = simpImputer.fit_transform(df[simpImputeCols])\n"
      ]
    },
    {
      "cell_type": "code",
      "execution_count": null,
      "id": "ff2de75e",
      "metadata": {
        "colab": {
          "base_uri": "https://localhost:8080/"
        },
        "id": "ff2de75e",
        "outputId": "035b1443-e880-4e5b-8eb5-4e31c7f881c1"
      },
      "outputs": [
        {
          "output_type": "stream",
          "name": "stdout",
          "text": [
            "Sex                False\n",
            "Equipment          False\n",
            "Age                False\n",
            "Division           False\n",
            "BodyweightKg       False\n",
            "Best3SquatKg       False\n",
            "Bench1Kg           False\n",
            "Bench2Kg           False\n",
            "Bench3Kg           False\n",
            "Best3BenchKg       False\n",
            "Deadlift1Kg        False\n",
            "Deadlift2Kg        False\n",
            "Deadlift3Kg        False\n",
            "Best3DeadliftKg    False\n",
            "Tested             False\n",
            "Country            False\n",
            "Federation         False\n",
            "Date               False\n",
            "MeetCountry        False\n",
            "MeetState          False\n",
            "dtype: bool\n"
          ]
        }
      ],
      "source": [
        "#Teraz nie mamy już żadnych NaN\n",
        "print(df.isna().any())\n",
        "df.index = np.arange(df.shape[0])"
      ]
    },
    {
      "cell_type": "code",
      "execution_count": null,
      "id": "b1e9f0f2",
      "metadata": {
        "id": "b1e9f0f2"
      },
      "outputs": [],
      "source": [
        "#Oddzielamy features od przewidywanej wartości\n",
        "X = df.drop(\"Best3SquatKg\", axis=1)\n",
        "y = df[\"Best3SquatKg\"]"
      ]
    },
    {
      "cell_type": "code",
      "execution_count": null,
      "id": "3d2458ae",
      "metadata": {
        "colab": {
          "base_uri": "https://localhost:8080/",
          "height": 770
        },
        "id": "3d2458ae",
        "outputId": "1249dd96-e0d4-443d-e70f-44a7755c19a1"
      },
      "outputs": [
        {
          "output_type": "stream",
          "name": "stderr",
          "text": [
            "/usr/local/lib/python3.7/dist-packages/ipykernel_launcher.py:9: DeprecationWarning: `np.bool` is a deprecated alias for the builtin `bool`. To silence this warning, use `bool` by itself. Doing this will not modify any behavior and is safe. If you specifically wanted the numpy scalar type, use `np.bool_` here.\n",
            "Deprecated in NumPy 1.20; for more details and guidance: https://numpy.org/devdocs/release/1.20.0-notes.html#deprecations\n",
            "  if __name__ == '__main__':\n"
          ]
        },
        {
          "output_type": "display_data",
          "data": {
            "text/plain": [
              "<Figure size 792x648 with 2 Axes>"
            ],
            "image/png": "[encoded data removed]"
          },
          "metadata": {}
        },
        {
          "output_type": "execute_result",
          "data": {
            "text/plain": [
              "                      Age  BodyweightKg  Best3BenchKg  Best3DeadliftKg\n",
              "Age              1.000000      0.054748      0.022350        -0.039138\n",
              "BodyweightKg     0.054748      1.000000      0.638698         0.633433\n",
              "Best3BenchKg     0.022350      0.638698      1.000000         0.852644\n",
              "Best3DeadliftKg -0.039138      0.633433      0.852644         1.000000"
            ],
            "text/html": [
              "\n",
              "  <div id=\"df-7a84bbcc-d7aa-421a-afbe-998113e0621a\">\n",
              "    <div class=\"colab-df-container\">\n",
              "      <div>\n",
              "<style scoped>\n",
              "    .dataframe tbody tr th:only-of-type {\n",
              "        vertical-align: middle;\n",
              "    }\n",
              "\n",
              "    .dataframe tbody tr th {\n",
              "        vertical-align: top;\n",
              "    }\n",
              "\n",
              "    .dataframe thead th {\n",
              "        text-align: right;\n",
              "    }\n",
              "</style>\n",
              "<table border=\"1\" class=\"dataframe\">\n",
              "  <thead>\n",
              "    <tr style=\"text-align: right;\">\n",
              "      <th></th>\n",
              "      <th>Age</th>\n",
              "      <th>BodyweightKg</th>\n",
              "      <th>Best3BenchKg</th>\n",
              "      <th>Best3DeadliftKg</th>\n",
              "    </tr>\n",
              "  </thead>\n",
              "  <tbody>\n",
              "    <tr>\n",
              "      <th>Age</th>\n",
              "      <td>1.000000</td>\n",
              "      <td>0.054748</td>\n",
              "      <td>0.022350</td>\n",
              "      <td>-0.039138</td>\n",
              "    </tr>\n",
              "    <tr>\n",
              "      <th>BodyweightKg</th>\n",
              "      <td>0.054748</td>\n",
              "      <td>1.000000</td>\n",
              "      <td>0.638698</td>\n",
              "      <td>0.633433</td>\n",
              "    </tr>\n",
              "    <tr>\n",
              "      <th>Best3BenchKg</th>\n",
              "      <td>0.022350</td>\n",
              "      <td>0.638698</td>\n",
              "      <td>1.000000</td>\n",
              "      <td>0.852644</td>\n",
              "    </tr>\n",
              "    <tr>\n",
              "      <th>Best3DeadliftKg</th>\n",
              "      <td>-0.039138</td>\n",
              "      <td>0.633433</td>\n",
              "      <td>0.852644</td>\n",
              "      <td>1.000000</td>\n",
              "    </tr>\n",
              "  </tbody>\n",
              "</table>\n",
              "</div>\n",
              "      <button class=\"colab-df-convert\" onclick=\"convertToInteractive('df-7a84bbcc-d7aa-421a-afbe-998113e0621a')\"\n",
              "              title=\"Convert this dataframe to an interactive table.\"\n",
              "              style=\"display:none;\">\n",
              "        \n",
              "  <svg xmlns=\"http://www.w3.org/2000/svg\" height=\"24px\"viewBox=\"0 0 24 24\"\n",
              "       width=\"24px\">\n",
              "    <path d=\"M0 0h24v24H0V0z\" fill=\"none\"/>\n",
              "    <path d=\"M18.56 5.44l.94 2.06.94-2.06 2.06-.94-2.06-.94-.94-2.06-.94 2.06-2.06.94zm-11 1L8.5 8.5l.94-2.06 2.06-.94-2.06-.94L8.5 2.5l-.94 2.06-2.06.94zm10 10l.94 2.06.94-2.06 2.06-.94-2.06-.94-.94-2.06-.94 2.06-2.06.94z\"/><path d=\"M17.41 7.96l-1.37-1.37c-.4-.4-.92-.59-1.43-.59-.52 0-1.04.2-1.43.59L10.3 9.45l-7.72 7.72c-.78.78-.78 2.05 0 2.83L4 21.41c.39.39.9.59 1.41.59.51 0 1.02-.2 1.41-.59l7.78-7.78 2.81-2.81c.8-.78.8-2.07 0-2.86zM5.41 20L4 18.59l7.72-7.72 1.47 1.35L5.41 20z\"/>\n",
              "  </svg>\n",
              "      </button>\n",
              "      \n",
              "  <style>\n",
              "    .colab-df-container {\n",
              "      display:flex;\n",
              "      flex-wrap:wrap;\n",
              "      gap: 12px;\n",
              "    }\n",
              "\n",
              "    .colab-df-convert {\n",
              "      background-color: #E8F0FE;\n",
              "      border: none;\n",
              "      border-radius: 50%;\n",
              "      cursor: pointer;\n",
              "      display: none;\n",
              "      fill: #1967D2;\n",
              "      height: 32px;\n",
              "      padding: 0 0 0 0;\n",
              "      width: 32px;\n",
              "    }\n",
              "\n",
              "    .colab-df-convert:hover {\n",
              "      background-color: #E2EBFA;\n",
              "      box-shadow: 0px 1px 2px rgba(60, 64, 67, 0.3), 0px 1px 3px 1px rgba(60, 64, 67, 0.15);\n",
              "      fill: #174EA6;\n",
              "    }\n",
              "\n",
              "    [theme=dark] .colab-df-convert {\n",
              "      background-color: #3B4455;\n",
              "      fill: #D2E3FC;\n",
              "    }\n",
              "\n",
              "    [theme=dark] .colab-df-convert:hover {\n",
              "      background-color: #434B5C;\n",
              "      box-shadow: 0px 1px 3px 1px rgba(0, 0, 0, 0.15);\n",
              "      filter: drop-shadow(0px 1px 2px rgba(0, 0, 0, 0.3));\n",
              "      fill: #FFFFFF;\n",
              "    }\n",
              "  </style>\n",
              "\n",
              "      <script>\n",
              "        const buttonEl =\n",
              "          document.querySelector('#df-7a84bbcc-d7aa-421a-afbe-998113e0621a button.colab-df-convert');\n",
              "        buttonEl.style.display =\n",
              "          google.colab.kernel.accessAllowed ? 'block' : 'none';\n",
              "\n",
              "        async function convertToInteractive(key) {\n",
              "          const element = document.querySelector('#df-7a84bbcc-d7aa-421a-afbe-998113e0621a');\n",
              "          const dataTable =\n",
              "            await google.colab.kernel.invokeFunction('convertToInteractive',\n",
              "                                                     [key], {});\n",
              "          if (!dataTable) return;\n",
              "\n",
              "          const docLinkHtml = 'Like what you see? Visit the ' +\n",
              "            '<a target=\"_blank\" href=https://colab.research.google.com/notebooks/data_table.ipynb>data table notebook</a>'\n",
              "            + ' to learn more about interactive tables.';\n",
              "          element.innerHTML = '';\n",
              "          dataTable['output_type'] = 'display_data';\n",
              "          await google.colab.output.renderOutput(dataTable, element);\n",
              "          const docLink = document.createElement('div');\n",
              "          docLink.innerHTML = docLinkHtml;\n",
              "          element.appendChild(docLink);\n",
              "        }\n",
              "      </script>\n",
              "    </div>\n",
              "  </div>\n",
              "  "
            ]
          },
          "metadata": {},
          "execution_count": 18
        }
      ],
      "source": [
        "# zobaczymy heatmape dla numerycznych features\n",
        "numColumns = [col for col in X.columns.tolist() if X[col].dtype == \"float64\"]\n",
        "\n",
        "sns.set(style=\"darkgrid\")\n",
        "\n",
        "corr = X[numColumns].corr()\n",
        "\n",
        "# Generate a mask for the upper triangle\n",
        "mask = np.zeros_like(corr, dtype=np.bool)\n",
        "mask[np.triu_indices_from(mask)] = True\n",
        "\n",
        "# Set up the matplotlib figure\n",
        "f, ax = plt.subplots(figsize=(11, 9))\n",
        "\n",
        "# Generate a custom diverging colormap\n",
        "cmap = sns.diverging_palette(220, 10, as_cmap=True)\n",
        "\n",
        "# Draw the heatmap with the mask and correct aspect ratio\n",
        "sns.heatmap(corr, mask=mask, cmap=cmap, vmin=-1, vmax=1,\n",
        "            square=True, xticklabels=5, yticklabels=5,\n",
        "            linewidths=.5, cbar_kws={\"shrink\": .5}, ax=ax)\n",
        "plt.show()\n",
        "corr\n"
      ]
    },
    {
      "cell_type": "code",
      "execution_count": null,
      "id": "5676b7ff",
      "metadata": {
        "id": "5676b7ff"
      },
      "outputs": [],
      "source": [
        "#sns.lineplot(x=X[\"Date\"], y=y, linewidth=.1, estimator='mean')\n",
        "# nie widać zależności wyników od czasu więc możemy pozbyć się daty zawodów"
      ]
    },
    {
      "cell_type": "code",
      "execution_count": null,
      "id": "0c4f54ae",
      "metadata": {
        "colab": {
          "base_uri": "https://localhost:8080/"
        },
        "id": "0c4f54ae",
        "outputId": "fb65945a-11ea-4759-aa31-3ee299231827"
      },
      "outputs": [
        {
          "output_type": "stream",
          "name": "stdout",
          "text": [
            "Sex: 2\n",
            "Equipment: 4\n",
            "Division: 3318\n",
            "Bench1Kg: 3\n",
            "Bench2Kg: 3\n",
            "Bench3Kg: 3\n",
            "Deadlift1Kg: 3\n",
            "Deadlift2Kg: 3\n",
            "Deadlift3Kg: 3\n",
            "Tested: 2\n",
            "Country: 142\n",
            "Federation: 196\n",
            "MeetCountry: 92\n",
            "MeetState: 110\n"
          ]
        }
      ],
      "source": [
        "catColumns = [col for col in X.columns.tolist() if X[col].dtype == \"object\"]\n",
        "X = X.drop(\"Date\", axis=1)\n",
        "catColumns.remove(\"Date\")\n",
        "for col in catColumns:\n",
        "    print(col + \": \" + str(df[col].nunique()))\n",
        "\n",
        "\n",
        "#Jak widac mamy kilka kategorycznych feature ktorych nie mozemy zonehotencodowac bo jest zbyt duzo unique values"
      ]
    },
    {
      "cell_type": "code",
      "execution_count": null,
      "id": "d6cb5e26",
      "metadata": {
        "colab": {
          "base_uri": "https://localhost:8080/",
          "height": 1000
        },
        "id": "d6cb5e26",
        "outputId": "0a73eef3-fbc7-4505-fdd1-ac29519d96f8"
      },
      "outputs": [
        {
          "output_type": "display_data",
          "data": {
            "text/plain": [
              "<Figure size 432x288 with 1 Axes>"
            ],
            "image/png": "[encoded data removed]"
          },
          "metadata": {}
        },
        {
          "output_type": "display_data",
          "data": {
            "text/plain": [
              "<Figure size 432x288 with 1 Axes>"
            ],
            "image/png": "[encoded data removed]"
          },
          "metadata": {}
        },
        {
          "output_type": "display_data",
          "data": {
            "text/plain": [
              "<Figure size 432x288 with 1 Axes>"
            ],
            "image/png": "[encoded data removed]"
          },
          "metadata": {}
        },
        {
          "output_type": "display_data",
          "data": {
            "text/plain": [
              "<Figure size 432x288 with 1 Axes>"
            ],
            "image/png": "[encoded data removed]"
          },
          "metadata": {}
        },
        {
          "output_type": "display_data",
          "data": {
            "text/plain": [
              "<Figure size 432x288 with 1 Axes>"
            ],
            "image/png": "[encoded data removed]"
          },
          "metadata": {}
        },
        {
          "output_type": "display_data",
          "data": {
            "text/plain": [
              "<Figure size 432x288 with 1 Axes>"
            ],
            "image/png": "[encoded data removed]"
          },
          "metadata": {}
        },
        {
          "output_type": "display_data",
          "data": {
            "text/plain": [
              "<Figure size 432x288 with 1 Axes>"
            ],
            "image/png": "[encoded data removed]"
          },
          "metadata": {}
        },
        {
          "output_type": "display_data",
          "data": {
            "text/plain": [
              "<Figure size 432x288 with 1 Axes>"
            ],
            "image/png": "[encoded data removed]"
          },
          "metadata": {}
        },
        {
          "output_type": "display_data",
          "data": {
            "text/plain": [
              "<Figure size 432x288 with 1 Axes>"
            ],
            "image/png": "[encoded data removed]"
          },
          "metadata": {}
        },
        {
          "output_type": "display_data",
          "data": {
            "text/plain": [
              "<Figure size 432x288 with 1 Axes>"
            ],
            "image/png": "[encoded data removed]"
          },
          "metadata": {}
        },
        {
          "output_type": "display_data",
          "data": {
            "text/plain": [
              "<Figure size 432x288 with 1 Axes>"
            ],
            "image/png": "[encoded data removed]"
          },
          "metadata": {}
        }
      ],
      "source": [
        "for name in catColumns:\n",
        "    if X[name].nunique() < 15:\n",
        "        sns.boxplot(x=X[name], y=y)\n",
        "        plt.show()"
      ]
    },
    {
      "cell_type": "code",
      "execution_count": null,
      "id": "e209c3fe",
      "metadata": {
        "id": "e209c3fe"
      },
      "outputs": [],
      "source": [
        "hotEncode = [\"Sex\", \"Equipment\", \"Tested\", \"Deadlift1Kg\", \"Deadlift2Kg\", \"Deadlift3Kg\", \"Bench1Kg\", \"Bench2Kg\", \"Bench3Kg\"]\n",
        "\n",
        "## one hot encoding\n",
        "def oneHotEncode(X,hotEncode):  \n",
        "    for col in hotEncode:\n",
        "        X1 = pd.get_dummies(X[col], prefix=col)\n",
        "        X = pd.concat([X, X1], axis=1)\n",
        "        X= X.drop(col, axis=1)\n",
        "    return (X)\n",
        "\n",
        "\n"
      ]
    },
    {
      "cell_type": "code",
      "execution_count": null,
      "id": "090e170b",
      "metadata": {
        "id": "090e170b"
      },
      "outputs": [],
      "source": [
        "targetEncode = [\"Division\", \"Country\", \"Federation\", \"MeetCountry\", \"MeetState\"]\n",
        "\n",
        "#target encoding dopiero po train test split\n",
        "scaler =StandardScaler()\n",
        "X[numColumns] = scaler.fit_transform(X[numColumns])"
      ]
    },
    {
      "cell_type": "code",
      "execution_count": null,
      "id": "45dcfd07",
      "metadata": {
        "colab": {
          "base_uri": "https://localhost:8080/"
        },
        "id": "45dcfd07",
        "outputId": "9c12b6de-0ad5-4fe8-99cc-75a34c2bc685"
      },
      "outputs": [
        {
          "output_type": "stream",
          "name": "stderr",
          "text": [
            "/usr/local/lib/python3.7/dist-packages/category_encoders/target_encoder.py:94: FutureWarning: Default parameter min_samples_leaf will change in version 2.6.See https://github.com/scikit-learn-contrib/category_encoders/issues/327\n",
            "  category=FutureWarning)\n",
            "/usr/local/lib/python3.7/dist-packages/category_encoders/target_encoder.py:99: FutureWarning: Default parameter smoothing will change in version 2.6.See https://github.com/scikit-learn-contrib/category_encoders/issues/327\n",
            "  category=FutureWarning)\n"
          ]
        }
      ],
      "source": [
        "X_train, X_test, y_train, y_test = train_test_split(X, y, test_size=0.2, random_state=1)\n",
        "\n",
        "enc = TargetEncoder(cols=targetEncode, handle_missing=\"value\", handle_unknown=\"value\")\n",
        "\n",
        "X_train = oneHotEncode(X_train,hotEncode)\n",
        "X_train = enc.fit_transform(X_train, y_train)\n",
        "\n",
        "X_val, X_test, y_val, y_test = train_test_split(X_test, y_test, test_size=0.5, random_state=1) \n",
        "\n",
        "X_test = oneHotEncode(X_test,hotEncode)\n",
        "X_val = oneHotEncode(X_val,hotEncode)\n",
        "\n",
        "X_val = enc.transform(X_val)\n",
        "X_test = enc.transform(X_test)\n"
      ]
    },
    {
      "cell_type": "code",
      "execution_count": null,
      "id": "4e96e4d6",
      "metadata": {
        "colab": {
          "base_uri": "https://localhost:8080/",
          "height": 501
        },
        "id": "4e96e4d6",
        "outputId": "1b8672f2-6725-4c3b-ded1-231b57b12a1c"
      },
      "outputs": [
        {
          "output_type": "stream",
          "name": "stdout",
          "text": [
            "Fitting 5 folds for each of 4 candidates, totalling 20 fits\n",
            "[CV 1/5] END C=100000, gamma=1e-05;, score=(train=0.887, test=0.882) total time=  15.1s\n",
            "[CV 2/5] END C=100000, gamma=1e-05;, score=(train=0.884, test=0.895) total time=   8.9s\n",
            "[CV 3/5] END C=100000, gamma=1e-05;, score=(train=0.889, test=0.875) total time=   8.4s\n",
            "[CV 4/5] END C=100000, gamma=1e-05;, score=(train=0.889, test=0.875) total time=   9.3s\n",
            "[CV 5/5] END C=100000, gamma=1e-05;, score=(train=0.884, test=0.896) total time=   9.4s\n",
            "[CV 1/5] END C=100000, gamma=0.0001;, score=(train=0.892, test=0.879) total time=  29.5s\n",
            "[CV 2/5] END C=100000, gamma=0.0001;, score=(train=0.888, test=0.895) total time=  22.0s\n"
          ]
        },
        {
          "output_type": "error",
          "ename": "KeyboardInterrupt",
          "evalue": "ignored",
          "traceback": [
            "\u001b[0;31m---------------------------------------------------------------------------\u001b[0m",
            "\u001b[0;31mKeyboardInterrupt\u001b[0m                         Traceback (most recent call last)",
            "\u001b[0;32m<ipython-input-37-158f27cfd9b8>\u001b[0m in \u001b[0;36m<module>\u001b[0;34m()\u001b[0m\n\u001b[1;32m      6\u001b[0m \u001b[0mgrid_1\u001b[0m \u001b[0;34m=\u001b[0m \u001b[0mGridSearchCV\u001b[0m\u001b[0;34m(\u001b[0m\u001b[0mSVR\u001b[0m\u001b[0;34m(\u001b[0m\u001b[0mkernel\u001b[0m\u001b[0;34m=\u001b[0m\u001b[0;34m'rbf'\u001b[0m\u001b[0;34m)\u001b[0m\u001b[0;34m,\u001b[0m \u001b[0mparam_grid\u001b[0m\u001b[0;34m,\u001b[0m \u001b[0mcv\u001b[0m\u001b[0;34m=\u001b[0m\u001b[0mkfold\u001b[0m\u001b[0;34m,\u001b[0m \u001b[0mreturn_train_score\u001b[0m\u001b[0;34m=\u001b[0m\u001b[0;32mTrue\u001b[0m\u001b[0;34m,\u001b[0m\u001b[0mverbose\u001b[0m\u001b[0;34m=\u001b[0m\u001b[0;36m3\u001b[0m\u001b[0;34m)\u001b[0m\u001b[0;34m\u001b[0m\u001b[0;34m\u001b[0m\u001b[0m\n\u001b[1;32m      7\u001b[0m \u001b[0;34m\u001b[0m\u001b[0m\n\u001b[0;32m----> 8\u001b[0;31m \u001b[0mgrid_1\u001b[0m\u001b[0;34m.\u001b[0m\u001b[0mfit\u001b[0m\u001b[0;34m(\u001b[0m\u001b[0mX_train\u001b[0m\u001b[0;34m,\u001b[0m \u001b[0my_train\u001b[0m\u001b[0;34m)\u001b[0m\u001b[0;34m\u001b[0m\u001b[0;34m\u001b[0m\u001b[0m\n\u001b[0m\u001b[1;32m      9\u001b[0m \u001b[0mgrid_1\u001b[0m\u001b[0;34m.\u001b[0m\u001b[0mbest_params_\u001b[0m\u001b[0;34m\u001b[0m\u001b[0;34m\u001b[0m\u001b[0m\n",
            "\u001b[0;32m/usr/local/lib/python3.7/dist-packages/sklearn/model_selection/_search.py\u001b[0m in \u001b[0;36mfit\u001b[0;34m(self, X, y, groups, **fit_params)\u001b[0m\n\u001b[1;32m    889\u001b[0m                 \u001b[0;32mreturn\u001b[0m \u001b[0mresults\u001b[0m\u001b[0;34m\u001b[0m\u001b[0;34m\u001b[0m\u001b[0m\n\u001b[1;32m    890\u001b[0m \u001b[0;34m\u001b[0m\u001b[0m\n\u001b[0;32m--> 891\u001b[0;31m             \u001b[0mself\u001b[0m\u001b[0;34m.\u001b[0m\u001b[0m_run_search\u001b[0m\u001b[0;34m(\u001b[0m\u001b[0mevaluate_candidates\u001b[0m\u001b[0;34m)\u001b[0m\u001b[0;34m\u001b[0m\u001b[0;34m\u001b[0m\u001b[0m\n\u001b[0m\u001b[1;32m    892\u001b[0m \u001b[0;34m\u001b[0m\u001b[0m\n\u001b[1;32m    893\u001b[0m             \u001b[0;31m# multimetric is determined here because in the case of a callable\u001b[0m\u001b[0;34m\u001b[0m\u001b[0;34m\u001b[0m\u001b[0;34m\u001b[0m\u001b[0m\n",
            "\u001b[0;32m/usr/local/lib/python3.7/dist-packages/sklearn/model_selection/_search.py\u001b[0m in \u001b[0;36m_run_search\u001b[0;34m(self, evaluate_candidates)\u001b[0m\n\u001b[1;32m   1390\u001b[0m     \u001b[0;32mdef\u001b[0m \u001b[0m_run_search\u001b[0m\u001b[0;34m(\u001b[0m\u001b[0mself\u001b[0m\u001b[0;34m,\u001b[0m \u001b[0mevaluate_candidates\u001b[0m\u001b[0;34m)\u001b[0m\u001b[0;34m:\u001b[0m\u001b[0;34m\u001b[0m\u001b[0;34m\u001b[0m\u001b[0m\n\u001b[1;32m   1391\u001b[0m         \u001b[0;34m\"\"\"Search all candidates in param_grid\"\"\"\u001b[0m\u001b[0;34m\u001b[0m\u001b[0;34m\u001b[0m\u001b[0m\n\u001b[0;32m-> 1392\u001b[0;31m         \u001b[0mevaluate_candidates\u001b[0m\u001b[0;34m(\u001b[0m\u001b[0mParameterGrid\u001b[0m\u001b[0;34m(\u001b[0m\u001b[0mself\u001b[0m\u001b[0;34m.\u001b[0m\u001b[0mparam_grid\u001b[0m\u001b[0;34m)\u001b[0m\u001b[0;34m)\u001b[0m\u001b[0;34m\u001b[0m\u001b[0;34m\u001b[0m\u001b[0m\n\u001b[0m\u001b[1;32m   1393\u001b[0m \u001b[0;34m\u001b[0m\u001b[0m\n\u001b[1;32m   1394\u001b[0m \u001b[0;34m\u001b[0m\u001b[0m\n",
            "\u001b[0;32m/usr/local/lib/python3.7/dist-packages/sklearn/model_selection/_search.py\u001b[0m in \u001b[0;36mevaluate_candidates\u001b[0;34m(candidate_params, cv, more_results)\u001b[0m\n\u001b[1;32m    849\u001b[0m                     )\n\u001b[1;32m    850\u001b[0m                     for (cand_idx, parameters), (split_idx, (train, test)) in product(\n\u001b[0;32m--> 851\u001b[0;31m                         \u001b[0menumerate\u001b[0m\u001b[0;34m(\u001b[0m\u001b[0mcandidate_params\u001b[0m\u001b[0;34m)\u001b[0m\u001b[0;34m,\u001b[0m \u001b[0menumerate\u001b[0m\u001b[0;34m(\u001b[0m\u001b[0mcv\u001b[0m\u001b[0;34m.\u001b[0m\u001b[0msplit\u001b[0m\u001b[0;34m(\u001b[0m\u001b[0mX\u001b[0m\u001b[0;34m,\u001b[0m \u001b[0my\u001b[0m\u001b[0;34m,\u001b[0m \u001b[0mgroups\u001b[0m\u001b[0;34m)\u001b[0m\u001b[0;34m)\u001b[0m\u001b[0;34m\u001b[0m\u001b[0;34m\u001b[0m\u001b[0m\n\u001b[0m\u001b[1;32m    852\u001b[0m                     )\n\u001b[1;32m    853\u001b[0m                 )\n",
            "\u001b[0;32m/usr/local/lib/python3.7/dist-packages/joblib/parallel.py\u001b[0m in \u001b[0;36m__call__\u001b[0;34m(self, iterable)\u001b[0m\n\u001b[1;32m   1044\u001b[0m                 \u001b[0mself\u001b[0m\u001b[0;34m.\u001b[0m\u001b[0m_iterating\u001b[0m \u001b[0;34m=\u001b[0m \u001b[0mself\u001b[0m\u001b[0;34m.\u001b[0m\u001b[0m_original_iterator\u001b[0m \u001b[0;32mis\u001b[0m \u001b[0;32mnot\u001b[0m \u001b[0;32mNone\u001b[0m\u001b[0;34m\u001b[0m\u001b[0;34m\u001b[0m\u001b[0m\n\u001b[1;32m   1045\u001b[0m \u001b[0;34m\u001b[0m\u001b[0m\n\u001b[0;32m-> 1046\u001b[0;31m             \u001b[0;32mwhile\u001b[0m \u001b[0mself\u001b[0m\u001b[0;34m.\u001b[0m\u001b[0mdispatch_one_batch\u001b[0m\u001b[0;34m(\u001b[0m\u001b[0miterator\u001b[0m\u001b[0;34m)\u001b[0m\u001b[0;34m:\u001b[0m\u001b[0;34m\u001b[0m\u001b[0;34m\u001b[0m\u001b[0m\n\u001b[0m\u001b[1;32m   1047\u001b[0m                 \u001b[0;32mpass\u001b[0m\u001b[0;34m\u001b[0m\u001b[0;34m\u001b[0m\u001b[0m\n\u001b[1;32m   1048\u001b[0m \u001b[0;34m\u001b[0m\u001b[0m\n",
            "\u001b[0;32m/usr/local/lib/python3.7/dist-packages/joblib/parallel.py\u001b[0m in \u001b[0;36mdispatch_one_batch\u001b[0;34m(self, iterator)\u001b[0m\n\u001b[1;32m    859\u001b[0m                 \u001b[0;32mreturn\u001b[0m \u001b[0;32mFalse\u001b[0m\u001b[0;34m\u001b[0m\u001b[0;34m\u001b[0m\u001b[0m\n\u001b[1;32m    860\u001b[0m             \u001b[0;32melse\u001b[0m\u001b[0;34m:\u001b[0m\u001b[0;34m\u001b[0m\u001b[0;34m\u001b[0m\u001b[0m\n\u001b[0;32m--> 861\u001b[0;31m                 \u001b[0mself\u001b[0m\u001b[0;34m.\u001b[0m\u001b[0m_dispatch\u001b[0m\u001b[0;34m(\u001b[0m\u001b[0mtasks\u001b[0m\u001b[0;34m)\u001b[0m\u001b[0;34m\u001b[0m\u001b[0;34m\u001b[0m\u001b[0m\n\u001b[0m\u001b[1;32m    862\u001b[0m                 \u001b[0;32mreturn\u001b[0m \u001b[0;32mTrue\u001b[0m\u001b[0;34m\u001b[0m\u001b[0;34m\u001b[0m\u001b[0m\n\u001b[1;32m    863\u001b[0m \u001b[0;34m\u001b[0m\u001b[0m\n",
            "\u001b[0;32m/usr/local/lib/python3.7/dist-packages/joblib/parallel.py\u001b[0m in \u001b[0;36m_dispatch\u001b[0;34m(self, batch)\u001b[0m\n\u001b[1;32m    777\u001b[0m         \u001b[0;32mwith\u001b[0m \u001b[0mself\u001b[0m\u001b[0;34m.\u001b[0m\u001b[0m_lock\u001b[0m\u001b[0;34m:\u001b[0m\u001b[0;34m\u001b[0m\u001b[0;34m\u001b[0m\u001b[0m\n\u001b[1;32m    778\u001b[0m             \u001b[0mjob_idx\u001b[0m \u001b[0;34m=\u001b[0m \u001b[0mlen\u001b[0m\u001b[0;34m(\u001b[0m\u001b[0mself\u001b[0m\u001b[0;34m.\u001b[0m\u001b[0m_jobs\u001b[0m\u001b[0;34m)\u001b[0m\u001b[0;34m\u001b[0m\u001b[0;34m\u001b[0m\u001b[0m\n\u001b[0;32m--> 779\u001b[0;31m             \u001b[0mjob\u001b[0m \u001b[0;34m=\u001b[0m \u001b[0mself\u001b[0m\u001b[0;34m.\u001b[0m\u001b[0m_backend\u001b[0m\u001b[0;34m.\u001b[0m\u001b[0mapply_async\u001b[0m\u001b[0;34m(\u001b[0m\u001b[0mbatch\u001b[0m\u001b[0;34m,\u001b[0m \u001b[0mcallback\u001b[0m\u001b[0;34m=\u001b[0m\u001b[0mcb\u001b[0m\u001b[0;34m)\u001b[0m\u001b[0;34m\u001b[0m\u001b[0;34m\u001b[0m\u001b[0m\n\u001b[0m\u001b[1;32m    780\u001b[0m             \u001b[0;31m# A job can complete so quickly than its callback is\u001b[0m\u001b[0;34m\u001b[0m\u001b[0;34m\u001b[0m\u001b[0;34m\u001b[0m\u001b[0m\n\u001b[1;32m    781\u001b[0m             \u001b[0;31m# called before we get here, causing self._jobs to\u001b[0m\u001b[0;34m\u001b[0m\u001b[0;34m\u001b[0m\u001b[0;34m\u001b[0m\u001b[0m\n",
            "\u001b[0;32m/usr/local/lib/python3.7/dist-packages/joblib/_parallel_backends.py\u001b[0m in \u001b[0;36mapply_async\u001b[0;34m(self, func, callback)\u001b[0m\n\u001b[1;32m    206\u001b[0m     \u001b[0;32mdef\u001b[0m \u001b[0mapply_async\u001b[0m\u001b[0;34m(\u001b[0m\u001b[0mself\u001b[0m\u001b[0;34m,\u001b[0m \u001b[0mfunc\u001b[0m\u001b[0;34m,\u001b[0m \u001b[0mcallback\u001b[0m\u001b[0;34m=\u001b[0m\u001b[0;32mNone\u001b[0m\u001b[0;34m)\u001b[0m\u001b[0;34m:\u001b[0m\u001b[0;34m\u001b[0m\u001b[0;34m\u001b[0m\u001b[0m\n\u001b[1;32m    207\u001b[0m         \u001b[0;34m\"\"\"Schedule a func to be run\"\"\"\u001b[0m\u001b[0;34m\u001b[0m\u001b[0;34m\u001b[0m\u001b[0m\n\u001b[0;32m--> 208\u001b[0;31m         \u001b[0mresult\u001b[0m \u001b[0;34m=\u001b[0m \u001b[0mImmediateResult\u001b[0m\u001b[0;34m(\u001b[0m\u001b[0mfunc\u001b[0m\u001b[0;34m)\u001b[0m\u001b[0;34m\u001b[0m\u001b[0;34m\u001b[0m\u001b[0m\n\u001b[0m\u001b[1;32m    209\u001b[0m         \u001b[0;32mif\u001b[0m \u001b[0mcallback\u001b[0m\u001b[0;34m:\u001b[0m\u001b[0;34m\u001b[0m\u001b[0;34m\u001b[0m\u001b[0m\n\u001b[1;32m    210\u001b[0m             \u001b[0mcallback\u001b[0m\u001b[0;34m(\u001b[0m\u001b[0mresult\u001b[0m\u001b[0;34m)\u001b[0m\u001b[0;34m\u001b[0m\u001b[0;34m\u001b[0m\u001b[0m\n",
            "\u001b[0;32m/usr/local/lib/python3.7/dist-packages/joblib/_parallel_backends.py\u001b[0m in \u001b[0;36m__init__\u001b[0;34m(self, batch)\u001b[0m\n\u001b[1;32m    570\u001b[0m         \u001b[0;31m# Don't delay the application, to avoid keeping the input\u001b[0m\u001b[0;34m\u001b[0m\u001b[0;34m\u001b[0m\u001b[0;34m\u001b[0m\u001b[0m\n\u001b[1;32m    571\u001b[0m         \u001b[0;31m# arguments in memory\u001b[0m\u001b[0;34m\u001b[0m\u001b[0;34m\u001b[0m\u001b[0;34m\u001b[0m\u001b[0m\n\u001b[0;32m--> 572\u001b[0;31m         \u001b[0mself\u001b[0m\u001b[0;34m.\u001b[0m\u001b[0mresults\u001b[0m \u001b[0;34m=\u001b[0m \u001b[0mbatch\u001b[0m\u001b[0;34m(\u001b[0m\u001b[0;34m)\u001b[0m\u001b[0;34m\u001b[0m\u001b[0;34m\u001b[0m\u001b[0m\n\u001b[0m\u001b[1;32m    573\u001b[0m \u001b[0;34m\u001b[0m\u001b[0m\n\u001b[1;32m    574\u001b[0m     \u001b[0;32mdef\u001b[0m \u001b[0mget\u001b[0m\u001b[0;34m(\u001b[0m\u001b[0mself\u001b[0m\u001b[0;34m)\u001b[0m\u001b[0;34m:\u001b[0m\u001b[0;34m\u001b[0m\u001b[0;34m\u001b[0m\u001b[0m\n",
            "\u001b[0;32m/usr/local/lib/python3.7/dist-packages/joblib/parallel.py\u001b[0m in \u001b[0;36m__call__\u001b[0;34m(self)\u001b[0m\n\u001b[1;32m    261\u001b[0m         \u001b[0;32mwith\u001b[0m \u001b[0mparallel_backend\u001b[0m\u001b[0;34m(\u001b[0m\u001b[0mself\u001b[0m\u001b[0;34m.\u001b[0m\u001b[0m_backend\u001b[0m\u001b[0;34m,\u001b[0m \u001b[0mn_jobs\u001b[0m\u001b[0;34m=\u001b[0m\u001b[0mself\u001b[0m\u001b[0;34m.\u001b[0m\u001b[0m_n_jobs\u001b[0m\u001b[0;34m)\u001b[0m\u001b[0;34m:\u001b[0m\u001b[0;34m\u001b[0m\u001b[0;34m\u001b[0m\u001b[0m\n\u001b[1;32m    262\u001b[0m             return [func(*args, **kwargs)\n\u001b[0;32m--> 263\u001b[0;31m                     for func, args, kwargs in self.items]\n\u001b[0m\u001b[1;32m    264\u001b[0m \u001b[0;34m\u001b[0m\u001b[0m\n\u001b[1;32m    265\u001b[0m     \u001b[0;32mdef\u001b[0m \u001b[0m__reduce__\u001b[0m\u001b[0;34m(\u001b[0m\u001b[0mself\u001b[0m\u001b[0;34m)\u001b[0m\u001b[0;34m:\u001b[0m\u001b[0;34m\u001b[0m\u001b[0;34m\u001b[0m\u001b[0m\n",
            "\u001b[0;32m/usr/local/lib/python3.7/dist-packages/joblib/parallel.py\u001b[0m in \u001b[0;36m<listcomp>\u001b[0;34m(.0)\u001b[0m\n\u001b[1;32m    261\u001b[0m         \u001b[0;32mwith\u001b[0m \u001b[0mparallel_backend\u001b[0m\u001b[0;34m(\u001b[0m\u001b[0mself\u001b[0m\u001b[0;34m.\u001b[0m\u001b[0m_backend\u001b[0m\u001b[0;34m,\u001b[0m \u001b[0mn_jobs\u001b[0m\u001b[0;34m=\u001b[0m\u001b[0mself\u001b[0m\u001b[0;34m.\u001b[0m\u001b[0m_n_jobs\u001b[0m\u001b[0;34m)\u001b[0m\u001b[0;34m:\u001b[0m\u001b[0;34m\u001b[0m\u001b[0;34m\u001b[0m\u001b[0m\n\u001b[1;32m    262\u001b[0m             return [func(*args, **kwargs)\n\u001b[0;32m--> 263\u001b[0;31m                     for func, args, kwargs in self.items]\n\u001b[0m\u001b[1;32m    264\u001b[0m \u001b[0;34m\u001b[0m\u001b[0m\n\u001b[1;32m    265\u001b[0m     \u001b[0;32mdef\u001b[0m \u001b[0m__reduce__\u001b[0m\u001b[0;34m(\u001b[0m\u001b[0mself\u001b[0m\u001b[0;34m)\u001b[0m\u001b[0;34m:\u001b[0m\u001b[0;34m\u001b[0m\u001b[0;34m\u001b[0m\u001b[0m\n",
            "\u001b[0;32m/usr/local/lib/python3.7/dist-packages/sklearn/utils/fixes.py\u001b[0m in \u001b[0;36m__call__\u001b[0;34m(self, *args, **kwargs)\u001b[0m\n\u001b[1;32m    214\u001b[0m     \u001b[0;32mdef\u001b[0m \u001b[0m__call__\u001b[0m\u001b[0;34m(\u001b[0m\u001b[0mself\u001b[0m\u001b[0;34m,\u001b[0m \u001b[0;34m*\u001b[0m\u001b[0margs\u001b[0m\u001b[0;34m,\u001b[0m \u001b[0;34m**\u001b[0m\u001b[0mkwargs\u001b[0m\u001b[0;34m)\u001b[0m\u001b[0;34m:\u001b[0m\u001b[0;34m\u001b[0m\u001b[0;34m\u001b[0m\u001b[0m\n\u001b[1;32m    215\u001b[0m         \u001b[0;32mwith\u001b[0m \u001b[0mconfig_context\u001b[0m\u001b[0;34m(\u001b[0m\u001b[0;34m**\u001b[0m\u001b[0mself\u001b[0m\u001b[0;34m.\u001b[0m\u001b[0mconfig\u001b[0m\u001b[0;34m)\u001b[0m\u001b[0;34m:\u001b[0m\u001b[0;34m\u001b[0m\u001b[0;34m\u001b[0m\u001b[0m\n\u001b[0;32m--> 216\u001b[0;31m             \u001b[0;32mreturn\u001b[0m \u001b[0mself\u001b[0m\u001b[0;34m.\u001b[0m\u001b[0mfunction\u001b[0m\u001b[0;34m(\u001b[0m\u001b[0;34m*\u001b[0m\u001b[0margs\u001b[0m\u001b[0;34m,\u001b[0m \u001b[0;34m**\u001b[0m\u001b[0mkwargs\u001b[0m\u001b[0;34m)\u001b[0m\u001b[0;34m\u001b[0m\u001b[0;34m\u001b[0m\u001b[0m\n\u001b[0m\u001b[1;32m    217\u001b[0m \u001b[0;34m\u001b[0m\u001b[0m\n\u001b[1;32m    218\u001b[0m \u001b[0;34m\u001b[0m\u001b[0m\n",
            "\u001b[0;32m/usr/local/lib/python3.7/dist-packages/sklearn/model_selection/_validation.py\u001b[0m in \u001b[0;36m_fit_and_score\u001b[0;34m(estimator, X, y, scorer, train, test, verbose, parameters, fit_params, return_train_score, return_parameters, return_n_test_samples, return_times, return_estimator, split_progress, candidate_progress, error_score)\u001b[0m\n\u001b[1;32m    703\u001b[0m         \u001b[0mscore_time\u001b[0m \u001b[0;34m=\u001b[0m \u001b[0mtime\u001b[0m\u001b[0;34m.\u001b[0m\u001b[0mtime\u001b[0m\u001b[0;34m(\u001b[0m\u001b[0;34m)\u001b[0m \u001b[0;34m-\u001b[0m \u001b[0mstart_time\u001b[0m \u001b[0;34m-\u001b[0m \u001b[0mfit_time\u001b[0m\u001b[0;34m\u001b[0m\u001b[0;34m\u001b[0m\u001b[0m\n\u001b[1;32m    704\u001b[0m         \u001b[0;32mif\u001b[0m \u001b[0mreturn_train_score\u001b[0m\u001b[0;34m:\u001b[0m\u001b[0;34m\u001b[0m\u001b[0;34m\u001b[0m\u001b[0m\n\u001b[0;32m--> 705\u001b[0;31m             \u001b[0mtrain_scores\u001b[0m \u001b[0;34m=\u001b[0m \u001b[0m_score\u001b[0m\u001b[0;34m(\u001b[0m\u001b[0mestimator\u001b[0m\u001b[0;34m,\u001b[0m \u001b[0mX_train\u001b[0m\u001b[0;34m,\u001b[0m \u001b[0my_train\u001b[0m\u001b[0;34m,\u001b[0m \u001b[0mscorer\u001b[0m\u001b[0;34m,\u001b[0m \u001b[0merror_score\u001b[0m\u001b[0;34m)\u001b[0m\u001b[0;34m\u001b[0m\u001b[0;34m\u001b[0m\u001b[0m\n\u001b[0m\u001b[1;32m    706\u001b[0m \u001b[0;34m\u001b[0m\u001b[0m\n\u001b[1;32m    707\u001b[0m     \u001b[0;32mif\u001b[0m \u001b[0mverbose\u001b[0m \u001b[0;34m>\u001b[0m \u001b[0;36m1\u001b[0m\u001b[0;34m:\u001b[0m\u001b[0;34m\u001b[0m\u001b[0;34m\u001b[0m\u001b[0m\n",
            "\u001b[0;32m/usr/local/lib/python3.7/dist-packages/sklearn/model_selection/_validation.py\u001b[0m in \u001b[0;36m_score\u001b[0;34m(estimator, X_test, y_test, scorer, error_score)\u001b[0m\n\u001b[1;32m    759\u001b[0m             \u001b[0mscores\u001b[0m \u001b[0;34m=\u001b[0m \u001b[0mscorer\u001b[0m\u001b[0;34m(\u001b[0m\u001b[0mestimator\u001b[0m\u001b[0;34m,\u001b[0m \u001b[0mX_test\u001b[0m\u001b[0;34m)\u001b[0m\u001b[0;34m\u001b[0m\u001b[0;34m\u001b[0m\u001b[0m\n\u001b[1;32m    760\u001b[0m         \u001b[0;32melse\u001b[0m\u001b[0;34m:\u001b[0m\u001b[0;34m\u001b[0m\u001b[0;34m\u001b[0m\u001b[0m\n\u001b[0;32m--> 761\u001b[0;31m             \u001b[0mscores\u001b[0m \u001b[0;34m=\u001b[0m \u001b[0mscorer\u001b[0m\u001b[0;34m(\u001b[0m\u001b[0mestimator\u001b[0m\u001b[0;34m,\u001b[0m \u001b[0mX_test\u001b[0m\u001b[0;34m,\u001b[0m \u001b[0my_test\u001b[0m\u001b[0;34m)\u001b[0m\u001b[0;34m\u001b[0m\u001b[0;34m\u001b[0m\u001b[0m\n\u001b[0m\u001b[1;32m    762\u001b[0m     \u001b[0;32mexcept\u001b[0m \u001b[0mException\u001b[0m\u001b[0;34m:\u001b[0m\u001b[0;34m\u001b[0m\u001b[0;34m\u001b[0m\u001b[0m\n\u001b[1;32m    763\u001b[0m         \u001b[0;32mif\u001b[0m \u001b[0merror_score\u001b[0m \u001b[0;34m==\u001b[0m \u001b[0;34m\"raise\"\u001b[0m\u001b[0;34m:\u001b[0m\u001b[0;34m\u001b[0m\u001b[0;34m\u001b[0m\u001b[0m\n",
            "\u001b[0;32m/usr/local/lib/python3.7/dist-packages/sklearn/metrics/_scorer.py\u001b[0m in \u001b[0;36m_passthrough_scorer\u001b[0;34m(estimator, *args, **kwargs)\u001b[0m\n\u001b[1;32m    416\u001b[0m \u001b[0;32mdef\u001b[0m \u001b[0m_passthrough_scorer\u001b[0m\u001b[0;34m(\u001b[0m\u001b[0mestimator\u001b[0m\u001b[0;34m,\u001b[0m \u001b[0;34m*\u001b[0m\u001b[0margs\u001b[0m\u001b[0;34m,\u001b[0m \u001b[0;34m**\u001b[0m\u001b[0mkwargs\u001b[0m\u001b[0;34m)\u001b[0m\u001b[0;34m:\u001b[0m\u001b[0;34m\u001b[0m\u001b[0;34m\u001b[0m\u001b[0m\n\u001b[1;32m    417\u001b[0m     \u001b[0;34m\"\"\"Function that wraps estimator.score\"\"\"\u001b[0m\u001b[0;34m\u001b[0m\u001b[0;34m\u001b[0m\u001b[0m\n\u001b[0;32m--> 418\u001b[0;31m     \u001b[0;32mreturn\u001b[0m \u001b[0mestimator\u001b[0m\u001b[0;34m.\u001b[0m\u001b[0mscore\u001b[0m\u001b[0;34m(\u001b[0m\u001b[0;34m*\u001b[0m\u001b[0margs\u001b[0m\u001b[0;34m,\u001b[0m \u001b[0;34m**\u001b[0m\u001b[0mkwargs\u001b[0m\u001b[0;34m)\u001b[0m\u001b[0;34m\u001b[0m\u001b[0;34m\u001b[0m\u001b[0m\n\u001b[0m\u001b[1;32m    419\u001b[0m \u001b[0;34m\u001b[0m\u001b[0m\n\u001b[1;32m    420\u001b[0m \u001b[0;34m\u001b[0m\u001b[0m\n",
            "\u001b[0;32m/usr/local/lib/python3.7/dist-packages/sklearn/base.py\u001b[0m in \u001b[0;36mscore\u001b[0;34m(self, X, y, sample_weight)\u001b[0m\n\u001b[1;32m    703\u001b[0m         \u001b[0;32mfrom\u001b[0m \u001b[0;34m.\u001b[0m\u001b[0mmetrics\u001b[0m \u001b[0;32mimport\u001b[0m \u001b[0mr2_score\u001b[0m\u001b[0;34m\u001b[0m\u001b[0;34m\u001b[0m\u001b[0m\n\u001b[1;32m    704\u001b[0m \u001b[0;34m\u001b[0m\u001b[0m\n\u001b[0;32m--> 705\u001b[0;31m         \u001b[0my_pred\u001b[0m \u001b[0;34m=\u001b[0m \u001b[0mself\u001b[0m\u001b[0;34m.\u001b[0m\u001b[0mpredict\u001b[0m\u001b[0;34m(\u001b[0m\u001b[0mX\u001b[0m\u001b[0;34m)\u001b[0m\u001b[0;34m\u001b[0m\u001b[0;34m\u001b[0m\u001b[0m\n\u001b[0m\u001b[1;32m    706\u001b[0m         \u001b[0;32mreturn\u001b[0m \u001b[0mr2_score\u001b[0m\u001b[0;34m(\u001b[0m\u001b[0my\u001b[0m\u001b[0;34m,\u001b[0m \u001b[0my_pred\u001b[0m\u001b[0;34m,\u001b[0m \u001b[0msample_weight\u001b[0m\u001b[0;34m=\u001b[0m\u001b[0msample_weight\u001b[0m\u001b[0;34m)\u001b[0m\u001b[0;34m\u001b[0m\u001b[0;34m\u001b[0m\u001b[0m\n\u001b[1;32m    707\u001b[0m \u001b[0;34m\u001b[0m\u001b[0m\n",
            "\u001b[0;32m/usr/local/lib/python3.7/dist-packages/sklearn/svm/_base.py\u001b[0m in \u001b[0;36mpredict\u001b[0;34m(self, X)\u001b[0m\n\u001b[1;32m    414\u001b[0m         \u001b[0mX\u001b[0m \u001b[0;34m=\u001b[0m \u001b[0mself\u001b[0m\u001b[0;34m.\u001b[0m\u001b[0m_validate_for_predict\u001b[0m\u001b[0;34m(\u001b[0m\u001b[0mX\u001b[0m\u001b[0;34m)\u001b[0m\u001b[0;34m\u001b[0m\u001b[0;34m\u001b[0m\u001b[0m\n\u001b[1;32m    415\u001b[0m         \u001b[0mpredict\u001b[0m \u001b[0;34m=\u001b[0m \u001b[0mself\u001b[0m\u001b[0;34m.\u001b[0m\u001b[0m_sparse_predict\u001b[0m \u001b[0;32mif\u001b[0m \u001b[0mself\u001b[0m\u001b[0;34m.\u001b[0m\u001b[0m_sparse\u001b[0m \u001b[0;32melse\u001b[0m \u001b[0mself\u001b[0m\u001b[0;34m.\u001b[0m\u001b[0m_dense_predict\u001b[0m\u001b[0;34m\u001b[0m\u001b[0;34m\u001b[0m\u001b[0m\n\u001b[0;32m--> 416\u001b[0;31m         \u001b[0;32mreturn\u001b[0m \u001b[0mpredict\u001b[0m\u001b[0;34m(\u001b[0m\u001b[0mX\u001b[0m\u001b[0;34m)\u001b[0m\u001b[0;34m\u001b[0m\u001b[0;34m\u001b[0m\u001b[0m\n\u001b[0m\u001b[1;32m    417\u001b[0m \u001b[0;34m\u001b[0m\u001b[0m\n\u001b[1;32m    418\u001b[0m     \u001b[0;32mdef\u001b[0m \u001b[0m_dense_predict\u001b[0m\u001b[0;34m(\u001b[0m\u001b[0mself\u001b[0m\u001b[0;34m,\u001b[0m \u001b[0mX\u001b[0m\u001b[0;34m)\u001b[0m\u001b[0;34m:\u001b[0m\u001b[0;34m\u001b[0m\u001b[0;34m\u001b[0m\u001b[0m\n",
            "\u001b[0;32m/usr/local/lib/python3.7/dist-packages/sklearn/svm/_base.py\u001b[0m in \u001b[0;36m_dense_predict\u001b[0;34m(self, X)\u001b[0m\n\u001b[1;32m    447\u001b[0m             \u001b[0mcoef0\u001b[0m\u001b[0;34m=\u001b[0m\u001b[0mself\u001b[0m\u001b[0;34m.\u001b[0m\u001b[0mcoef0\u001b[0m\u001b[0;34m,\u001b[0m\u001b[0;34m\u001b[0m\u001b[0;34m\u001b[0m\u001b[0m\n\u001b[1;32m    448\u001b[0m             \u001b[0mgamma\u001b[0m\u001b[0;34m=\u001b[0m\u001b[0mself\u001b[0m\u001b[0;34m.\u001b[0m\u001b[0m_gamma\u001b[0m\u001b[0;34m,\u001b[0m\u001b[0;34m\u001b[0m\u001b[0;34m\u001b[0m\u001b[0m\n\u001b[0;32m--> 449\u001b[0;31m             \u001b[0mcache_size\u001b[0m\u001b[0;34m=\u001b[0m\u001b[0mself\u001b[0m\u001b[0;34m.\u001b[0m\u001b[0mcache_size\u001b[0m\u001b[0;34m,\u001b[0m\u001b[0;34m\u001b[0m\u001b[0;34m\u001b[0m\u001b[0m\n\u001b[0m\u001b[1;32m    450\u001b[0m         )\n\u001b[1;32m    451\u001b[0m \u001b[0;34m\u001b[0m\u001b[0m\n",
            "\u001b[0;31mKeyboardInterrupt\u001b[0m: "
          ]
        }
      ],
      "source": [
        "kfold = KFold(n_splits=5, shuffle=True, random_state=42)\n",
        "\n",
        "param_grid={\"C\": [0.001, 0.01, 0.1, 1, 10 ,100, 1000, 10000, 100000,1000000],\n",
        "                               \"gamma\": [0.00001,0.0001,0.001, 0.01, 0.1, 1, 10 ,100, 1000]}\n",
        "\n",
        "grid_1 = GridSearchCV(SVR(kernel='rbf'), param_grid, cv=kfold, return_train_score=True,verbose=3)\n",
        "\n",
        "grid_1.fit(X_val, y_val)\n",
        "grid_1.best_params_"
      ]
    },
    {
      "cell_type": "code",
      "source": [
        "param_distribution = {\n",
        "    'max_depth': randint(3, 11),\n",
        "    'learning_rate': uniform(0.001, 0.1-0.001),\n",
        "    'n_estimators': randint(50, 400),\n",
        "    'gamma': uniform(0,2),\n",
        "    'colsample_bytree': uniform(0.5, 0.5),\n",
        "    'subsample': uniform(0.5, 0.5),\n",
        "    'min_child_weight': randint(1, 11)\n",
        "}\n",
        "random_XGB = RandomizedSearchCV(XGBRegressor(),param_distribution,n_jobs=-1,verbose=3)\n",
        "random_XGB.fit(X_val,y_val)\n",
        "print(random_XGB.best_params_)"
      ],
      "metadata": {
        "colab": {
          "base_uri": "https://localhost:8080/"
        },
        "id": "dE9LlCw4Nqqa",
        "outputId": "f5985184-739b-4363-a162-35a2f5d63505"
      },
      "id": "dE9LlCw4Nqqa",
      "execution_count": null,
      "outputs": [
        {
          "output_type": "stream",
          "name": "stdout",
          "text": [
            "Fitting 5 folds for each of 10 candidates, totalling 50 fits\n",
            "[23:15:29] WARNING: /workspace/src/objective/regression_obj.cu:152: reg:linear is now deprecated in favor of reg:squarederror.\n",
            "{'colsample_bytree': 0.5190979823846726, 'gamma': 1.3648949762038143, 'learning_rate': 0.014733180752348425, 'max_depth': 5, 'min_child_weight': 8, 'n_estimators': 315, 'subsample': 0.9624894277145091}\n"
          ]
        }
      ]
    },
    {
      "cell_type": "code",
      "execution_count": null,
      "id": "be7ffba2",
      "metadata": {
        "id": "be7ffba2"
      },
      "outputs": [],
      "source": [
        "\n",
        "\n",
        "model_SVR = SVR(C=100000,gamma=0.00001,verbose=True)\n",
        "model_SVR.fit(X_train,y_train)"
      ]
    },
    {
      "cell_type": "code",
      "source": [
        "model_XGB = XGBRegressor(colsample_bytree=0.5190979823846726, gamma= 1.3648949762038143, learning_rate= 0.014733180752348425, \n",
        "                         max_depth= 5, min_child_weight= 8, n_estimators= 315, subsample= 0.9624894277145091,verbose=True)\n",
        "model_XGB.fit(X_train,y_train)"
      ],
      "metadata": {
        "colab": {
          "base_uri": "https://localhost:8080/"
        },
        "id": "kwWO9Bc2QP2N",
        "outputId": "43b85f98-c566-42a2-f8e0-b8b2faa02646"
      },
      "id": "kwWO9Bc2QP2N",
      "execution_count": null,
      "outputs": [
        {
          "metadata": {
            "tags": null
          },
          "name": "stdout",
          "output_type": "stream",
          "text": [
            "[00:43:33] WARNING: /workspace/src/objective/regression_obj.cu:152: reg:linear is now deprecated in favor of reg:squarederror.\n"
          ]
        }
      ]
    },
    {
      "cell_type": "code",
      "source": [
        "#dump(model_SVR,'model_SVR.joblib')\n",
        "#dump(grid_SVR,'grid_SVR.joblib')\n",
        "#dump(random_XGB,'random_XGB.joblib')\n",
        "#dump(model_XGB,'model_XGB.joblib')\n",
        "models = []\n",
        "\n",
        "models.append(('SVR', model_SVR))\n",
        "models.append(('XGB', model_XGB))\n",
        "\n",
        "\n",
        "for name, model in models:\n",
        "    print(name)\n",
        "    print(\"R^2: {}\".format(metrics.r2_score(y_test, model.predict(X_test)) ))\n",
        "    print(\"Explained variance score: {}\".format( metrics.explained_variance_score(y_test, model.predict(X_test)) ))\n",
        "    print(\"Median absolute error: {}\".format( metrics.median_absolute_error(y_test, model.predict(X_test)) ))\n",
        "    print(\"Mean squared error: {}\".format( metrics.mean_squared_error(y_test, model.predict(X_test)) ))\n",
        "    print(\"Mean absolute errors: {}\".format(metrics.mean_absolute_error(y_test, model.predict(X_test)) ))"
      ],
      "metadata": {
        "colab": {
          "base_uri": "https://localhost:8080/",
          "height": 415
        },
        "id": "EuXzWUwSLC-0",
        "outputId": "35476a03-9833-476a-c77b-0d384b5b457f"
      },
      "id": "EuXzWUwSLC-0",
      "execution_count": null,
      "outputs": [
        {
          "output_type": "stream",
          "name": "stdout",
          "text": [
            "SVR\n",
            "R^2: 0.7980388029013953\n"
          ]
        },
        {
          "output_type": "error",
          "ename": "KeyboardInterrupt",
          "evalue": "ignored",
          "traceback": [
            "\u001b[0;31m---------------------------------------------------------------------------\u001b[0m",
            "\u001b[0;31mKeyboardInterrupt\u001b[0m                         Traceback (most recent call last)",
            "\u001b[0;32m<ipython-input-120-822d05578ec0>\u001b[0m in \u001b[0;36m<module>\u001b[0;34m()\u001b[0m\n\u001b[1;32m     12\u001b[0m     \u001b[0mprint\u001b[0m\u001b[0;34m(\u001b[0m\u001b[0mname\u001b[0m\u001b[0;34m)\u001b[0m\u001b[0;34m\u001b[0m\u001b[0;34m\u001b[0m\u001b[0m\n\u001b[1;32m     13\u001b[0m     \u001b[0mprint\u001b[0m\u001b[0;34m(\u001b[0m\u001b[0;34m\"R^2: {}\"\u001b[0m\u001b[0;34m.\u001b[0m\u001b[0mformat\u001b[0m\u001b[0;34m(\u001b[0m\u001b[0mmetrics\u001b[0m\u001b[0;34m.\u001b[0m\u001b[0mr2_score\u001b[0m\u001b[0;34m(\u001b[0m\u001b[0my_test\u001b[0m\u001b[0;34m,\u001b[0m \u001b[0mmodel\u001b[0m\u001b[0;34m.\u001b[0m\u001b[0mpredict\u001b[0m\u001b[0;34m(\u001b[0m\u001b[0mX_test\u001b[0m\u001b[0;34m)\u001b[0m\u001b[0;34m)\u001b[0m \u001b[0;34m)\u001b[0m\u001b[0;34m)\u001b[0m\u001b[0;34m\u001b[0m\u001b[0;34m\u001b[0m\u001b[0m\n\u001b[0;32m---> 14\u001b[0;31m     \u001b[0mprint\u001b[0m\u001b[0;34m(\u001b[0m\u001b[0;34m\"Explained variance score: {}\"\u001b[0m\u001b[0;34m.\u001b[0m\u001b[0mformat\u001b[0m\u001b[0;34m(\u001b[0m \u001b[0mmetrics\u001b[0m\u001b[0;34m.\u001b[0m\u001b[0mexplained_variance_score\u001b[0m\u001b[0;34m(\u001b[0m\u001b[0my_test\u001b[0m\u001b[0;34m,\u001b[0m \u001b[0mmodel\u001b[0m\u001b[0;34m.\u001b[0m\u001b[0mpredict\u001b[0m\u001b[0;34m(\u001b[0m\u001b[0mX_test\u001b[0m\u001b[0;34m)\u001b[0m\u001b[0;34m)\u001b[0m \u001b[0;34m)\u001b[0m\u001b[0;34m)\u001b[0m\u001b[0;34m\u001b[0m\u001b[0;34m\u001b[0m\u001b[0m\n\u001b[0m\u001b[1;32m     15\u001b[0m     \u001b[0mprint\u001b[0m\u001b[0;34m(\u001b[0m\u001b[0;34m\"Median absolute error: {}\"\u001b[0m\u001b[0;34m.\u001b[0m\u001b[0mformat\u001b[0m\u001b[0;34m(\u001b[0m \u001b[0mmetrics\u001b[0m\u001b[0;34m.\u001b[0m\u001b[0mmedian_absolute_error\u001b[0m\u001b[0;34m(\u001b[0m\u001b[0my_test\u001b[0m\u001b[0;34m,\u001b[0m \u001b[0mmodel\u001b[0m\u001b[0;34m.\u001b[0m\u001b[0mpredict\u001b[0m\u001b[0;34m(\u001b[0m\u001b[0mX_test\u001b[0m\u001b[0;34m)\u001b[0m\u001b[0;34m)\u001b[0m \u001b[0;34m)\u001b[0m\u001b[0;34m)\u001b[0m\u001b[0;34m\u001b[0m\u001b[0;34m\u001b[0m\u001b[0m\n\u001b[1;32m     16\u001b[0m     \u001b[0mprint\u001b[0m\u001b[0;34m(\u001b[0m\u001b[0;34m\"Mean squared error: {}\"\u001b[0m\u001b[0;34m.\u001b[0m\u001b[0mformat\u001b[0m\u001b[0;34m(\u001b[0m \u001b[0mmetrics\u001b[0m\u001b[0;34m.\u001b[0m\u001b[0mmean_squared_error\u001b[0m\u001b[0;34m(\u001b[0m\u001b[0my_test\u001b[0m\u001b[0;34m,\u001b[0m \u001b[0mmodel\u001b[0m\u001b[0;34m.\u001b[0m\u001b[0mpredict\u001b[0m\u001b[0;34m(\u001b[0m\u001b[0mX_test\u001b[0m\u001b[0;34m)\u001b[0m\u001b[0;34m)\u001b[0m \u001b[0;34m)\u001b[0m\u001b[0;34m)\u001b[0m\u001b[0;34m\u001b[0m\u001b[0;34m\u001b[0m\u001b[0m\n",
            "\u001b[0;32m/usr/local/lib/python3.7/dist-packages/sklearn/svm/_base.py\u001b[0m in \u001b[0;36mpredict\u001b[0;34m(self, X)\u001b[0m\n\u001b[1;32m    414\u001b[0m         \u001b[0mX\u001b[0m \u001b[0;34m=\u001b[0m \u001b[0mself\u001b[0m\u001b[0;34m.\u001b[0m\u001b[0m_validate_for_predict\u001b[0m\u001b[0;34m(\u001b[0m\u001b[0mX\u001b[0m\u001b[0;34m)\u001b[0m\u001b[0;34m\u001b[0m\u001b[0;34m\u001b[0m\u001b[0m\n\u001b[1;32m    415\u001b[0m         \u001b[0mpredict\u001b[0m \u001b[0;34m=\u001b[0m \u001b[0mself\u001b[0m\u001b[0;34m.\u001b[0m\u001b[0m_sparse_predict\u001b[0m \u001b[0;32mif\u001b[0m \u001b[0mself\u001b[0m\u001b[0;34m.\u001b[0m\u001b[0m_sparse\u001b[0m \u001b[0;32melse\u001b[0m \u001b[0mself\u001b[0m\u001b[0;34m.\u001b[0m\u001b[0m_dense_predict\u001b[0m\u001b[0;34m\u001b[0m\u001b[0;34m\u001b[0m\u001b[0m\n\u001b[0;32m--> 416\u001b[0;31m         \u001b[0;32mreturn\u001b[0m \u001b[0mpredict\u001b[0m\u001b[0;34m(\u001b[0m\u001b[0mX\u001b[0m\u001b[0;34m)\u001b[0m\u001b[0;34m\u001b[0m\u001b[0;34m\u001b[0m\u001b[0m\n\u001b[0m\u001b[1;32m    417\u001b[0m \u001b[0;34m\u001b[0m\u001b[0m\n\u001b[1;32m    418\u001b[0m     \u001b[0;32mdef\u001b[0m \u001b[0m_dense_predict\u001b[0m\u001b[0;34m(\u001b[0m\u001b[0mself\u001b[0m\u001b[0;34m,\u001b[0m \u001b[0mX\u001b[0m\u001b[0;34m)\u001b[0m\u001b[0;34m:\u001b[0m\u001b[0;34m\u001b[0m\u001b[0;34m\u001b[0m\u001b[0m\n",
            "\u001b[0;32m/usr/local/lib/python3.7/dist-packages/sklearn/svm/_base.py\u001b[0m in \u001b[0;36m_dense_predict\u001b[0;34m(self, X)\u001b[0m\n\u001b[1;32m    447\u001b[0m             \u001b[0mcoef0\u001b[0m\u001b[0;34m=\u001b[0m\u001b[0mself\u001b[0m\u001b[0;34m.\u001b[0m\u001b[0mcoef0\u001b[0m\u001b[0;34m,\u001b[0m\u001b[0;34m\u001b[0m\u001b[0;34m\u001b[0m\u001b[0m\n\u001b[1;32m    448\u001b[0m             \u001b[0mgamma\u001b[0m\u001b[0;34m=\u001b[0m\u001b[0mself\u001b[0m\u001b[0;34m.\u001b[0m\u001b[0m_gamma\u001b[0m\u001b[0;34m,\u001b[0m\u001b[0;34m\u001b[0m\u001b[0;34m\u001b[0m\u001b[0m\n\u001b[0;32m--> 449\u001b[0;31m             \u001b[0mcache_size\u001b[0m\u001b[0;34m=\u001b[0m\u001b[0mself\u001b[0m\u001b[0;34m.\u001b[0m\u001b[0mcache_size\u001b[0m\u001b[0;34m,\u001b[0m\u001b[0;34m\u001b[0m\u001b[0;34m\u001b[0m\u001b[0m\n\u001b[0m\u001b[1;32m    450\u001b[0m         )\n\u001b[1;32m    451\u001b[0m \u001b[0;34m\u001b[0m\u001b[0m\n",
            "\u001b[0;31mKeyboardInterrupt\u001b[0m: "
          ]
        }
      ]
    },
    {
      "cell_type": "code",
      "source": [
        ""
      ],
      "metadata": {
        "colab": {
          "base_uri": "https://localhost:8080/"
        },
        "id": "-iUTV1JkhuQr",
        "outputId": "54e6e3f6-27e5-4fa5-851c-f4388cc3937f"
      },
      "id": "-iUTV1JkhuQr",
      "execution_count": null,
      "outputs": [
        {
          "output_type": "stream",
          "name": "stdout",
          "text": [
            "13127590\n"
          ]
        }
      ]
    },
    {
      "cell_type": "code",
      "source": [
        "from keras.layers import BatchNormalization\n",
        "from keras.models import Sequential\n",
        "from keras.layers import Flatten\n",
        "from keras.layers import Activation\n",
        "from keras.layers import Dropout\n",
        "from keras.layers import Dense\n",
        "from keras.callbacks import EarlyStopping\n",
        "\n",
        "model = Sequential()\n",
        "\n",
        "model = Sequential()\n",
        "model.add(Dense(320, input_dim=X_train.shape[1], activation='relu'))\n",
        "model.add(Dense(384, activation='relu'))\n",
        "model.add(Dense(352, activation='relu'))\n",
        "model.add(Dense(448, activation='relu'))\n",
        "model.add(Dense(160, activation='relu'))\n",
        "model.add(Dense(160, activation='relu'))\n",
        "model.add(Dense(32, activation='relu'))\n",
        "model.add(Dense(1,activation='relu'))\n",
        "\n",
        "\n",
        "model.summary()\n",
        "\n",
        "model.compile(loss=\"mse\", optimizer=\"adam\", metrics=[\"accuracy\"])\n",
        "          \n",
        "early_stop = EarlyStopping(monitor='val_loss', mode='min', verbose=1, patience=10)"
      ],
      "metadata": {
        "colab": {
          "base_uri": "https://localhost:8080/"
        },
        "id": "nDImsS62XDMh",
        "outputId": "0d0430b0-be75-462b-ff87-3dba46ea0694"
      },
      "id": "nDImsS62XDMh",
      "execution_count": null,
      "outputs": [
        {
          "output_type": "stream",
          "name": "stdout",
          "text": [
            "Model: \"sequential_6\"\n",
            "_________________________________________________________________\n",
            " Layer (type)                Output Shape              Param #   \n",
            "=================================================================\n",
            " dense_22 (Dense)            (None, 320)               11520     \n",
            "                                                                 \n",
            " dense_23 (Dense)            (None, 384)               123264    \n",
            "                                                                 \n",
            " dense_24 (Dense)            (None, 352)               135520    \n",
            "                                                                 \n",
            " dense_25 (Dense)            (None, 448)               158144    \n",
            "                                                                 \n",
            " dense_26 (Dense)            (None, 160)               71840     \n",
            "                                                                 \n",
            " dense_27 (Dense)            (None, 160)               25760     \n",
            "                                                                 \n",
            " dense_28 (Dense)            (None, 32)                5152      \n",
            "                                                                 \n",
            " dense_29 (Dense)            (None, 1)                 33        \n",
            "                                                                 \n",
            "=================================================================\n",
            "Total params: 531,233\n",
            "Trainable params: 531,233\n",
            "Non-trainable params: 0\n",
            "_________________________________________________________________\n"
          ]
        }
      ]
    },
    {
      "cell_type": "code",
      "execution_count": null,
      "id": "6595773f",
      "metadata": {
        "colab": {
          "base_uri": "https://localhost:8080/"
        },
        "id": "6595773f",
        "outputId": "b965de44-47fd-415f-bdc6-c20c6e35e4b4"
      },
      "outputs": [
        {
          "output_type": "stream",
          "name": "stdout",
          "text": [
            "Epoch 1/30\n",
            "70/70 [==============================] - 2s 20ms/step - loss: 40638.3164 - accuracy: 0.0000e+00 - val_loss: 39743.6289 - val_accuracy: 0.0000e+00\n",
            "Epoch 2/30\n",
            "70/70 [==============================] - 1s 17ms/step - loss: 40638.3125 - accuracy: 0.0000e+00 - val_loss: 39743.6289 - val_accuracy: 0.0000e+00\n",
            "Epoch 3/30\n",
            "70/70 [==============================] - 1s 17ms/step - loss: 40638.3125 - accuracy: 0.0000e+00 - val_loss: 39743.6289 - val_accuracy: 0.0000e+00\n",
            "Epoch 4/30\n",
            "70/70 [==============================] - 1s 17ms/step - loss: 40638.3281 - accuracy: 0.0000e+00 - val_loss: 39743.6289 - val_accuracy: 0.0000e+00\n",
            "Epoch 5/30\n",
            "70/70 [==============================] - 1s 17ms/step - loss: 40638.3164 - accuracy: 0.0000e+00 - val_loss: 39743.6289 - val_accuracy: 0.0000e+00\n",
            "Epoch 6/30\n",
            "70/70 [==============================] - 1s 17ms/step - loss: 40638.3203 - accuracy: 0.0000e+00 - val_loss: 39743.6289 - val_accuracy: 0.0000e+00\n",
            "Epoch 7/30\n",
            "70/70 [==============================] - 1s 15ms/step - loss: 40638.3242 - accuracy: 0.0000e+00 - val_loss: 39743.6289 - val_accuracy: 0.0000e+00\n",
            "Epoch 8/30\n",
            "70/70 [==============================] - 1s 15ms/step - loss: 40638.3203 - accuracy: 0.0000e+00 - val_loss: 39743.6289 - val_accuracy: 0.0000e+00\n",
            "Epoch 9/30\n",
            "70/70 [==============================] - 1s 15ms/step - loss: 40638.3164 - accuracy: 0.0000e+00 - val_loss: 39743.6289 - val_accuracy: 0.0000e+00\n",
            "Epoch 10/30\n",
            "70/70 [==============================] - 1s 17ms/step - loss: 40638.3242 - accuracy: 0.0000e+00 - val_loss: 39743.6289 - val_accuracy: 0.0000e+00\n",
            "Epoch 11/30\n",
            "70/70 [==============================] - 1s 17ms/step - loss: 40638.3164 - accuracy: 0.0000e+00 - val_loss: 39743.6289 - val_accuracy: 0.0000e+00\n",
            "Epoch 11: early stopping\n"
          ]
        }
      ],
      "source": [
        "history = model.fit(X_train, y_train,\n",
        "          batch_size=128, epochs=30, validation_data=(X_val, y_val), callbacks=[early_stop])"
      ]
    }
  ],
  "metadata": {
    "kernelspec": {
      "display_name": "Python 3 (ipykernel)",
      "language": "python",
      "name": "python3"
    },
    "language_info": {
      "codemirror_mode": {
        "name": "ipython",
        "version": 3
      },
      "file_extension": ".py",
      "mimetype": "text/x-python",
      "name": "python",
      "nbconvert_exporter": "python",
      "pygments_lexer": "ipython3",
      "version": "3.9.7"
    },
    "colab": {
      "name": "Powerlifting.ipynb",
      "provenance": [],
      "collapsed_sections": []
    }
  },
  "nbformat": 4,
  "nbformat_minor": 5
}